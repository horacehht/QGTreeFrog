{
 "cells": [
  {
   "cell_type": "code",
   "execution_count": 1,
   "metadata": {},
   "outputs": [],
   "source": [
    "import requests"
   ]
  },
  {
   "cell_type": "code",
   "execution_count": 2,
   "metadata": {},
   "outputs": [],
   "source": [
    "headers = {\n",
    "    'User-Agent':'Mozilla/5.0 (Windows NT 10.0; Win64; x64) AppleWebKit/537.36 (KHTML, like Gecko) Chrome/89.0.4389.128 Safari/537.36'\n",
    "}"
   ]
  },
  {
   "cell_type": "code",
   "execution_count": 3,
   "metadata": {},
   "outputs": [],
   "source": [
    "res = requests.get('https://movie.douban.com/subject/1292052/', headers=headers)"
   ]
  },
  {
   "cell_type": "code",
   "execution_count": 4,
   "metadata": {},
   "outputs": [
    {
     "name": "stdout",
     "output_type": "stream",
     "text": [
      "['肖申克的救赎 The Shawshank Redemption']\n"
     ]
    }
   ],
   "source": [
    "from lxml import etree\n",
    "html = etree.HTML(res.text) # 转为html文本\n",
    "# 电影标题\n",
    "title = html.xpath('//h1//span[@property]/text()')\n",
    "print(title)"
   ]
  },
  {
   "cell_type": "code",
   "execution_count": 5,
   "metadata": {},
   "outputs": [
    {
     "name": "stdout",
     "output_type": "stream",
     "text": [
      "['弗兰克·德拉邦特']\n"
     ]
    }
   ],
   "source": [
    "# 导演\n",
    "director = html.xpath('//span/a[@rel = \"v:directedBy\"]/text()')\n",
    "print(director)"
   ]
  },
  {
   "cell_type": "code",
   "execution_count": 6,
   "metadata": {},
   "outputs": [
    {
     "name": "stdout",
     "output_type": "stream",
     "text": [
      "['9.7']\n",
      "9.7\n"
     ]
    }
   ],
   "source": [
    "# 电影豆瓣评分\n",
    "star = html.xpath('//strong/text()')\n",
    "print(star)\n",
    "print(float(star[0]))"
   ]
  },
  {
   "cell_type": "code",
   "execution_count": 7,
   "metadata": {},
   "outputs": [
    {
     "name": "stdout",
     "output_type": "stream",
     "text": [
      "['2333389']\n",
      "2333389\n"
     ]
    }
   ],
   "source": [
    "# 评价人数\n",
    "comments = html.xpath('//div/a[@href = \"comments\" and @class=\"rating_people\"]/span/text()')\n",
    "# 定义到所有div节点下的直接子节点a（对a进行了限制，href属性为comments，class属性为rating_people）\n",
    "# 再找其span节点下的内容\n",
    "print(comments)\n",
    "print(int(comments[0]))"
   ]
  },
  {
   "cell_type": "code",
   "execution_count": 8,
   "metadata": {},
   "outputs": [
    {
     "name": "stdout",
     "output_type": "stream",
     "text": [
      "['\\n                                    \\u3000\\u3000一场谋杀案使银行家安迪（蒂姆•罗宾斯 Tim Robbins 饰）蒙冤入狱，谋杀妻子及其情人的指控将囚禁他终生。在肖申克监狱的首次现身就让监狱“大哥”瑞德（摩根•弗里曼 Morgan Freeman 饰）对他另眼相看。瑞德帮助他搞到一把石锤和一幅女明星海报，两人渐成患难 之交。很快，安迪在监狱里大显其才，担当监狱图书管理员，并利用自己的金融知识帮助监狱官避税，引起了典狱长的注意，被招致麾下帮助典狱长洗黑钱。偶然一次，他得知一名新入狱的小偷能够作证帮他洗脱谋杀罪。燃起一丝希望的安迪找到了典狱长，希望他能帮自己翻案。阴险伪善的狱长假装答应安迪，背后却派人杀死小偷，让他唯一能合法出狱的希望泯灭。沮丧的安迪并没有绝望，在一个电闪雷鸣的风雨夜，一场暗藏几十年的越狱计划让他自我救赎，重获自由！老朋友瑞德在他的鼓舞和帮助下，也勇敢地奔向自由。\\n                                        ', '\\n                                    \\u3000\\u3000本片获得1995年奥...\\n                            ']\n"
     ]
    }
   ],
   "source": [
    "# 剧情简介\n",
    "summary = html.xpath('//div//span[@property = \"v:summary\"]/text()')\n",
    "print(summary)"
   ]
  },
  {
   "cell_type": "code",
   "execution_count": 9,
   "metadata": {},
   "outputs": [
    {
     "name": "stdout",
     "output_type": "stream",
     "text": [
      "['剧情', '犯罪']\n"
     ]
    }
   ],
   "source": [
    "# 电影类型\n",
    "movie_types = html.xpath('//span[@property = \"v:genre\"]/text()')\n",
    "print(movie_types)"
   ]
  },
  {
   "cell_type": "code",
   "execution_count": 10,
   "metadata": {},
   "outputs": [
    {
     "name": "stdout",
     "output_type": "stream",
     "text": [
      "['85.4%', '13.2%', '1.3%', '0.1%', '0.1%']\n"
     ]
    }
   ],
   "source": [
    "# 评星各占的百分比\n",
    "ratings = html.xpath('//div[@class = \"ratings-on-weight\"]/div/span[@class = \"rating_per\"]/text()')\n",
    "# 依此是五星，四星，三星，两星，一星\n",
    "print(ratings)"
   ]
  },
  {
   "cell_type": "markdown",
   "metadata": {},
   "source": [
    "# 一些字符串处理问题"
   ]
  },
  {
   "cell_type": "code",
   "execution_count": 11,
   "metadata": {},
   "outputs": [
    {
     "name": "stdout",
     "output_type": "stream",
     "text": [
      "剧情/犯罪\n",
      "剧情/犯罪\n"
     ]
    }
   ],
   "source": [
    "# 将多种电影类型合并成一个字符串，以/分隔\n",
    "types = ''\n",
    "for movie_type in movie_types:\n",
    "    types = types+movie_type+'/'\n",
    "print(types.rstrip('/'))\n",
    "types = types.rstrip('/')\n",
    "print(types)"
   ]
  },
  {
   "cell_type": "code",
   "execution_count": 12,
   "metadata": {},
   "outputs": [
    {
     "name": "stdout",
     "output_type": "stream",
     "text": [
      "一场谋杀案使银行家安迪（蒂姆•罗宾斯 Tim Robbins 饰）蒙冤入狱，谋杀妻子及其情人的指控将囚禁他终生。在肖申克监狱的首次现身就让监狱“大哥”瑞德（摩根•弗里曼 Morgan Freeman 饰）对他另眼相看。瑞德帮助他搞到一把石锤和一幅女明星海报，两人渐成患难 之交。很快，安迪在监狱里大显其才，担当监狱图书管理员，并利用自己的金融知识帮助监狱官避税，引起了典狱长的注意，被招致麾下帮助典狱长洗黑钱。偶然一次，他得知一名新入狱的小偷能够作证帮他洗脱谋杀罪。燃起一丝希望的安迪找到了典狱长，希望他能帮自己翻案。阴险伪善的狱长假装答应安迪，背后却派人杀死小偷，让他唯一能合法出狱的希望泯灭。沮丧的安迪并没有绝望，在一个电闪雷鸣的风雨夜，一场暗藏几十年的越狱计划让他自我救赎，重获自由！老朋友瑞德在他的鼓舞和帮助下，也勇敢地奔向自由。\n",
      "本片获得1995年奥...\n"
     ]
    }
   ],
   "source": [
    "example0 = summary[0]\n",
    "print(example0.strip())\n",
    "example1 = summary[1]\n",
    "print(example1.strip())"
   ]
  },
  {
   "cell_type": "code",
   "execution_count": 13,
   "metadata": {},
   "outputs": [
    {
     "name": "stdout",
     "output_type": "stream",
     "text": [
      "一场谋杀案使银行家安迪（蒂姆•罗宾斯 Tim Robbins 饰）蒙冤入狱，谋杀妻子及其情人的指控将囚禁他终生。在肖申克监狱的首次现身就让监狱“大哥”瑞德（摩根•弗里曼 Morgan Freeman 饰）对他另眼相看。瑞德帮助他搞到一把石锤和一幅女明星海报，两人渐成患难 之交。很快，安迪在监狱里大显其才，担当监狱图书管理员，并利用自己的金融知识帮助监狱官避税，引起了典狱长的注意，被招致麾下帮助典狱长洗黑钱。偶然一次，他得知一名新入狱的小偷能够作证帮他洗脱谋杀罪。燃起一丝希望的安迪找到了典狱长，希望他能帮自己翻案。阴险伪善的狱长假装答应安迪，背后却派人杀死小偷，让他唯一能合法出狱的希望泯灭。沮丧的安迪并没有绝望，在一个电闪雷鸣的风雨夜，一场暗藏几十年的越狱计划让他自我救赎，重获自由！老朋友瑞德在他的鼓舞和帮助下，也勇敢地奔向自由。本片获得1995年奥...\n"
     ]
    }
   ],
   "source": [
    "print(example0.strip()+example1.strip())"
   ]
  },
  {
   "cell_type": "code",
   "execution_count": 14,
   "metadata": {},
   "outputs": [],
   "source": [
    "# 因为剧情简介可能分为多段，为了存储方便，将其合并成一段\n",
    "content = ''\n",
    "for i in summary:\n",
    "    content = content + i.strip()"
   ]
  },
  {
   "cell_type": "code",
   "execution_count": 15,
   "metadata": {},
   "outputs": [
    {
     "name": "stdout",
     "output_type": "stream",
     "text": [
      "一场谋杀案使银行家安迪（蒂姆•罗宾斯 Tim Robbins 饰）蒙冤入狱，谋杀妻子及其情人的指控将囚禁他终生。在肖申克监狱的首次现身就让监狱“大哥”瑞德（摩根•弗里曼 Morgan Freeman 饰）对他另眼相看。瑞德帮助他搞到一把石锤和一幅女明星海报，两人渐成患难 之交。很快，安迪在监狱里大显其才，担当监狱图书管理员，并利用自己的金融知识帮助监狱官避税，引起了典狱长的注意，被招致麾下帮助典狱长洗黑钱。偶然一次，他得知一名新入狱的小偷能够作证帮他洗脱谋杀罪。燃起一丝希望的安迪找到了典狱长，希望他能帮自己翻案。阴险伪善的狱长假装答应安迪，背后却派人杀死小偷，让他唯一能合法出狱的希望泯灭。沮丧的安迪并没有绝望，在一个电闪雷鸣的风雨夜，一场暗藏几十年的越狱计划让他自我救赎，重获自由！老朋友瑞德在他的鼓舞和帮助下，也勇敢地奔向自由。本片获得1995年奥...\n"
     ]
    }
   ],
   "source": [
    "print(content)"
   ]
  },
  {
   "cell_type": "markdown",
   "metadata": {},
   "source": [
    "### 构造movie_info类，每一个实例对应一个电影"
   ]
  },
  {
   "cell_type": "code",
   "execution_count": 16,
   "metadata": {},
   "outputs": [],
   "source": [
    "# 定义一个movie_info类\n",
    "class movie_info:\n",
    "    \n",
    "    def __init__(self, url):\n",
    "        headers = {\n",
    "            'User-Agent':'Mozilla/5.0 (Windows NT 10.0; Win64; x64) AppleWebKit/537.36 (KHTML, like Gecko) Chrome/89.0.4389.128 Safari/537.36'\n",
    "        }\n",
    "        res = requests.get(url, headers=headers)\n",
    "        self.html = etree.HTML(res.text)\n",
    "    \n",
    "    def movie_title(self):\n",
    "        title = self.html.xpath('//h1//span[@property]/text()')\n",
    "        return title[0] # 电影标题，返回一个字符串\n",
    "\n",
    "    def movie_director(self):\n",
    "        director = self.html.xpath('//span/a[@rel = \"v:directedBy\"]/text()')\n",
    "        return director[0] # 导演，返回一个字符串\n",
    "\n",
    "    def movie_date_length(self):\n",
    "        date, time= self.html.xpath('//div/span[@content]/text()')\n",
    "        return date, time # 返回两个值，一个是上映日期，一个是时间\n",
    "\n",
    "    def movie_star(self):\n",
    "        star = self.html.xpath('//strong/text()')\n",
    "        return float(star[0]) # 返回豆瓣评分\n",
    "\n",
    "    def movie_comments(self):\n",
    "        comments = self.html.xpath('//div/a[@href = \"comments\" and @class=\"rating_people\"]/span/text()')\n",
    "        return int(comments[0]) # 返回评价人数，数据类型为int型\n",
    "\n",
    "    def movie_types(self):\n",
    "        movie_types = self.html.xpath('//span[@property = \"v:genre\"]/text()')\n",
    "        types = ''\n",
    "        for movie_type in movie_types:\n",
    "            types = types + movie_type + '/'\n",
    "        types = types.rstrip('/') # 去掉最右方的/\n",
    "        return types # 电影类型，返回一个字符串\n",
    "\n",
    "    def movie_summary(self):\n",
    "        summary = self.html.xpath('//div//span[@property = \"v:summary\"]/text()')\n",
    "        content = ''\n",
    "        for i in summary:\n",
    "            content = content + i.strip()\n",
    "        return content # 返回剧情简介，字符串类型\n",
    "\n",
    "    def movie_ratings(self):\n",
    "        ratings = self.html.xpath('//div[@class = \"ratings-on-weight\"]/div/span[@class = \"rating_per\"]/text()')\n",
    "        return ratings # 各评分占比，返回的是个字符串列表"
   ]
  },
  {
   "cell_type": "markdown",
   "metadata": {},
   "source": [
    "# 改动"
   ]
  },
  {
   "cell_type": "markdown",
   "metadata": {},
   "source": [
    "date_length编写有问题，上映日期和时长网页编排不同，要进行改动"
   ]
  },
  {
   "cell_type": "markdown",
   "metadata": {},
   "source": [
    "经观察，date和runtime都可以有多种"
   ]
  },
  {
   "cell_type": "code",
   "execution_count": 26,
   "metadata": {},
   "outputs": [
    {
     "name": "stdout",
     "output_type": "stream",
     "text": [
      "['1994-09-10(多伦多电影节)', '1994-10-14(美国)']\n"
     ]
    }
   ],
   "source": [
    "date = html.xpath('//span[@property = \"v:initialReleaseDate\"]/text()')\n",
    "print(date)"
   ]
  },
  {
   "cell_type": "code",
   "execution_count": 27,
   "metadata": {},
   "outputs": [
    {
     "name": "stdout",
     "output_type": "stream",
     "text": [
      "['142分钟']\n"
     ]
    }
   ],
   "source": [
    "runtime = html.xpath('//span[@property = \"v:runtime\"]/text()')\n",
    "print(runtime)"
   ]
  },
  {
   "cell_type": "code",
   "execution_count": 28,
   "metadata": {},
   "outputs": [
    {
     "name": "stdout",
     "output_type": "stream",
     "text": [
      "https://img2.doubanio.com/view/photo/s_ratio_poster/public/p480747492.webp\n"
     ]
    }
   ],
   "source": [
    "image_url = html.xpath('//img[@title = \"点击看更多海报\"]/@src')\n",
    "print(image_url[0].replace('jpg', 'webp'))"
   ]
  },
  {
   "cell_type": "code",
   "execution_count": 29,
   "metadata": {},
   "outputs": [],
   "source": [
    "# 重新定义movie_info类\n",
    "class movie_info:\n",
    "    \n",
    "    def __init__(self, url):\n",
    "        headers = {\n",
    "            'User-Agent':'Mozilla/5.0 (Windows NT 10.0; Win64; x64) AppleWebKit/537.36 (KHTML, like Gecko) Chrome/89.0.4389.128 Safari/537.36'\n",
    "        }\n",
    "        res = requests.get(url, headers=headers)\n",
    "        self.html = etree.HTML(res.text)\n",
    "    \n",
    "    def movie_title(self):\n",
    "        title = self.html.xpath('//h1//span[@property]/text()')\n",
    "        return title[0] # 电影标题，返回一个字符串\n",
    "\n",
    "    def movie_director(self):\n",
    "        director = self.html.xpath('//span/a[@rel = \"v:directedBy\"]/text()')\n",
    "        return director[0] # 导演，返回一个字符串\n",
    "\n",
    "    def movie_dates(self):\n",
    "        movie_dates = self.html.xpath('//span[@property = \"v:initialReleaseDate\"]/text()')\n",
    "        dates = ''\n",
    "        for movie_date in movie_dates:\n",
    "            dates = dates + movie_date + '/'\n",
    "        dates = dates.rstrip('/') # 去掉最右方的/\n",
    "        return dates # 上映日期，返回一个字符串\n",
    "    \n",
    "    def movie_runtime(self):\n",
    "        movie_times = self.html.xpath('//span[@property = \"v:runtime\"]/text()')\n",
    "        runtimes = ''\n",
    "        for movie_time in movie_times:\n",
    "            runtimes = runtimes + movie_time + '/'\n",
    "        runtimes = runtimes.rstrip('/')\n",
    "        return runtimes # 放映时长，返回一个字符串\n",
    "\n",
    "    def movie_star(self):\n",
    "        star = self.html.xpath('//strong/text()')\n",
    "        return float(star[0]) # 返回豆瓣评分\n",
    "\n",
    "    def movie_comments(self):\n",
    "        comments = self.html.xpath('//div/a[@href = \"comments\" and @class=\"rating_people\"]/span/text()')\n",
    "        return int(comments[0]) # 返回评价人数，数据类型为int型\n",
    "\n",
    "    def movie_types(self):\n",
    "        movie_types = self.html.xpath('//span[@property = \"v:genre\"]/text()')\n",
    "        types = ''\n",
    "        for movie_type in movie_types:\n",
    "            types = types + movie_type + '/'\n",
    "        types = types.rstrip('/') # 去掉最右方的/\n",
    "        return types # 电影类型，返回一个字符串\n",
    "\n",
    "    def movie_summary(self):\n",
    "        summary = self.html.xpath('//div//span[@property = \"v:summary\"]/text()')\n",
    "        content = ''\n",
    "        for i in summary:\n",
    "            content = content + i.strip()\n",
    "        return content # 返回剧情简介，字符串类型\n",
    "\n",
    "    def movie_ratings(self):\n",
    "        ratings = self.html.xpath('//div[@class = \"ratings-on-weight\"]/div/span[@class = \"rating_per\"]/text()')\n",
    "        return ratings # 各评分占比，返回的是个字符串列表\n",
    "    \n",
    "    def movie_image(self):\n",
    "        image = self.html.xpath('//img[@title = \"点击看更多海报\"]/@src')\n",
    "        image_url = image[0].replace('jpg', 'webp')\n",
    "        return image_url # 电影海报，返回的是个字符串，链接"
   ]
  },
  {
   "cell_type": "markdown",
   "metadata": {},
   "source": [
    "换几个网址，检测函数正确性"
   ]
  },
  {
   "cell_type": "code",
   "execution_count": 30,
   "metadata": {},
   "outputs": [],
   "source": [
    "url = 'https://movie.douban.com/subject/1292720/'\n",
    "killer = movie_info(url)"
   ]
  },
  {
   "cell_type": "code",
   "execution_count": 31,
   "metadata": {},
   "outputs": [
    {
     "data": {
      "text/plain": [
       "'阿甘正传 Forrest Gump'"
      ]
     },
     "execution_count": 31,
     "metadata": {},
     "output_type": "execute_result"
    }
   ],
   "source": [
    "killer.movie_title()"
   ]
  },
  {
   "cell_type": "code",
   "execution_count": 32,
   "metadata": {},
   "outputs": [
    {
     "data": {
      "text/plain": [
       "'罗伯特·泽米吉斯'"
      ]
     },
     "execution_count": 32,
     "metadata": {},
     "output_type": "execute_result"
    }
   ],
   "source": [
    "killer.movie_director()"
   ]
  },
  {
   "cell_type": "code",
   "execution_count": 33,
   "metadata": {},
   "outputs": [
    {
     "data": {
      "text/plain": [
       "'1994-09-10(多伦多电影节)/1994-10-14(美国)'"
      ]
     },
     "execution_count": 33,
     "metadata": {},
     "output_type": "execute_result"
    }
   ],
   "source": [
    "killer.movie_dates()"
   ]
  },
  {
   "cell_type": "code",
   "execution_count": 34,
   "metadata": {},
   "outputs": [
    {
     "data": {
      "text/plain": [
       "'142分钟'"
      ]
     },
     "execution_count": 34,
     "metadata": {},
     "output_type": "execute_result"
    }
   ],
   "source": [
    "killer.movie_runtime()"
   ]
  },
  {
   "cell_type": "code",
   "execution_count": 35,
   "metadata": {},
   "outputs": [
    {
     "data": {
      "text/plain": [
       "9.5"
      ]
     },
     "execution_count": 35,
     "metadata": {},
     "output_type": "execute_result"
    }
   ],
   "source": [
    "killer.movie_star()"
   ]
  },
  {
   "cell_type": "code",
   "execution_count": 36,
   "metadata": {},
   "outputs": [
    {
     "data": {
      "text/plain": [
       "1756272"
      ]
     },
     "execution_count": 36,
     "metadata": {},
     "output_type": "execute_result"
    }
   ],
   "source": [
    "killer.movie_comments()"
   ]
  },
  {
   "cell_type": "code",
   "execution_count": 37,
   "metadata": {},
   "outputs": [
    {
     "data": {
      "text/plain": [
       "'剧情/爱情'"
      ]
     },
     "execution_count": 37,
     "metadata": {},
     "output_type": "execute_result"
    }
   ],
   "source": [
    "killer.movie_types()"
   ]
  },
  {
   "cell_type": "code",
   "execution_count": 38,
   "metadata": {},
   "outputs": [
    {
     "data": {
      "text/plain": [
       "'阿甘（汤姆·汉克斯 饰）于二战结束后不久出生在美国南方阿拉巴马州一个闭塞的小镇，他先天弱智，智商只有75，然而他的妈妈是一个性格坚强的女性，她常常鼓励阿甘“傻人有傻福”，要他自强不息。阿甘像普通孩子一样上学，并且认识了一生的朋友和至爱珍妮（罗宾·莱特·潘 饰），在珍妮 和妈妈的爱护下，阿甘凭着上帝赐予的“飞毛腿”开始了一生不停的奔跑。阿甘成为橄榄球巨星、越战英雄、乒乓球外交使者、亿万富翁，但是，他始终忘不了珍妮，几次匆匆的相聚和离别，更是加深了阿甘的思念。有一天，阿甘收到珍妮的信，他们终于又要见面……'"
      ]
     },
     "execution_count": 38,
     "metadata": {},
     "output_type": "execute_result"
    }
   ],
   "source": [
    "killer.movie_summary()"
   ]
  },
  {
   "cell_type": "code",
   "execution_count": 39,
   "metadata": {},
   "outputs": [
    {
     "data": {
      "text/plain": [
       "['76.9%', '20.2%', '2.6%', '0.2%', '0.1%']"
      ]
     },
     "execution_count": 39,
     "metadata": {},
     "output_type": "execute_result"
    }
   ],
   "source": [
    "killer.movie_ratings()"
   ]
  },
  {
   "cell_type": "code",
   "execution_count": 40,
   "metadata": {},
   "outputs": [
    {
     "data": {
      "text/plain": [
       "'https://img2.doubanio.com/view/photo/s_ratio_poster/public/p2372307693.webp'"
      ]
     },
     "execution_count": 40,
     "metadata": {},
     "output_type": "execute_result"
    }
   ],
   "source": [
    "killer.movie_image()"
   ]
  },
  {
   "cell_type": "code",
   "execution_count": 42,
   "metadata": {},
   "outputs": [
    {
     "data": {
      "text/plain": [
       "75"
      ]
     },
     "execution_count": 42,
     "metadata": {},
     "output_type": "execute_result"
    }
   ],
   "source": [
    "len(killer.movie_image())"
   ]
  }
 ],
 "metadata": {
  "kernelspec": {
   "display_name": "Python 3",
   "language": "python",
   "name": "python3"
  },
  "language_info": {
   "codemirror_mode": {
    "name": "ipython",
    "version": 3
   },
   "file_extension": ".py",
   "mimetype": "text/x-python",
   "name": "python",
   "nbconvert_exporter": "python",
   "pygments_lexer": "ipython3",
   "version": "3.8.5"
  }
 },
 "nbformat": 4,
 "nbformat_minor": 4
}
