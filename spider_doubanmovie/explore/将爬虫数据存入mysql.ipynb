{
 "cells": [
  {
   "cell_type": "code",
   "execution_count": 26,
   "metadata": {},
   "outputs": [],
   "source": [
    "import requests\n",
    "from lxml import etree\n",
    "import pymysql"
   ]
  },
  {
   "cell_type": "code",
   "execution_count": 27,
   "metadata": {},
   "outputs": [],
   "source": [
    "# 重新定义movie_info类\n",
    "class movie_info:\n",
    "    \n",
    "    def __init__(self, url):\n",
    "        headers = {\n",
    "            'User-Agent':'Mozilla/5.0 (Windows NT 10.0; Win64; x64) AppleWebKit/537.36 (KHTML, like Gecko) Chrome/89.0.4389.128 Safari/537.36'\n",
    "        }\n",
    "        res = requests.get(url, headers=headers)\n",
    "        self.html = etree.HTML(res.text)\n",
    "    \n",
    "    def title(self):\n",
    "        title = self.html.xpath('//h1//span[@property]/text()')\n",
    "        return title[0] # 电影标题，返回一个字符串\n",
    "\n",
    "    def director(self):\n",
    "        director = self.html.xpath('//span/a[@rel = \"v:directedBy\"]/text()')\n",
    "        return director[0] # 导演，返回一个字符串\n",
    "\n",
    "    def dates(self):\n",
    "        movie_dates = self.html.xpath('//span[@property = \"v:initialReleaseDate\"]/text()')\n",
    "        dates = ''\n",
    "        for movie_date in movie_dates:\n",
    "            dates = dates + movie_date + '/'\n",
    "        dates = dates.rstrip('/') # 去掉最右方的/\n",
    "        return dates # 上映日期，返回一个字符串\n",
    "    \n",
    "    def runtime(self):\n",
    "        movie_times = self.html.xpath('//span[@property = \"v:runtime\"]/text()')\n",
    "        runtimes = ''\n",
    "        for movie_time in movie_times:\n",
    "            runtimes = runtimes + movie_time + '/'\n",
    "        runtimes = runtimes.rstrip('/')\n",
    "        return runtimes # 放映时长，返回一个字符串\n",
    "\n",
    "    def star(self):\n",
    "        star = self.html.xpath('//strong/text()')\n",
    "        return float(star[0]) # 返回豆瓣评分\n",
    "\n",
    "    def comments(self):\n",
    "        comments = self.html.xpath('//div/a[@href = \"comments\" and @class=\"rating_people\"]/span/text()')\n",
    "        return int(comments[0]) # 返回评价人数，数据类型为int型\n",
    "\n",
    "    def types(self):\n",
    "        movie_types = self.html.xpath('//span[@property = \"v:genre\"]/text()')\n",
    "        types = ''\n",
    "        for movie_type in movie_types:\n",
    "            types = types + movie_type + '/'\n",
    "        types = types.rstrip('/') # 去掉最右方的/\n",
    "        return types # 电影类型，返回一个字符串\n",
    "\n",
    "    def summary(self):\n",
    "        summary = self.html.xpath('//div//span[@property = \"v:summary\"]/text()')\n",
    "        content = ''\n",
    "        for i in summary:\n",
    "            content = content + i.strip()\n",
    "        return content # 返回剧情简介，字符串类型\n",
    "\n",
    "    def ratings(self):\n",
    "        ratings = self.html.xpath('//div[@class = \"ratings-on-weight\"]/div/span[@class = \"rating_per\"]/text()')\n",
    "        return ratings # 各评分占比，返回的是个字符串列表\n",
    "    \n",
    "    def image(self):\n",
    "        image = self.html.xpath('//img[@title = \"点击看更多海报\"]/@src')\n",
    "        image_url = image[0].replace('jpg', 'webp')\n",
    "        return image_url # 电影海报，返回的是个字符串，链接"
   ]
  },
  {
   "cell_type": "code",
   "execution_count": 28,
   "metadata": {},
   "outputs": [],
   "source": [
    "movie_url = 'https://movie.douban.com/subject/1292720/'\n",
    "movie = movie_info(movie_url)"
   ]
  },
  {
   "cell_type": "code",
   "execution_count": 34,
   "metadata": {},
   "outputs": [],
   "source": [
    "conn = pymysql.connect(  # 连接本地数据库\n",
    "    host=\"localhost\",\n",
    "    user=\"root\", # 要填root\n",
    "    password=\"htht0928\", # 填上自己的密码\n",
    "    database=\"doubanmovie\", # 数据库名\n",
    "    charset=\"utf8\"\n",
    ")\n",
    "\n",
    "cursor = conn.cursor()  # 得到一个可以执行SQL语句的光标对象"
   ]
  },
  {
   "cell_type": "code",
   "execution_count": 35,
   "metadata": {},
   "outputs": [
    {
     "data": {
      "text/plain": [
       "0"
      ]
     },
     "execution_count": 35,
     "metadata": {},
     "output_type": "execute_result"
    }
   ],
   "source": [
    "cursor.execute(\"DROP TABLE IF EXISTS MOVIEINFO\")"
   ]
  },
  {
   "cell_type": "code",
   "execution_count": 39,
   "metadata": {},
   "outputs": [],
   "source": [
    "# 创建MOVIEINFO表\n",
    "sql = \"\"\"CREATE TABLE MOVIEINFO(\n",
    "    `rank` INT auto_increment PRIMARY KEY,\n",
    "    title VARCHAR(750),\n",
    "    director CHAR(250),\n",
    "    release_date VARCHAR(750),\n",
    "    runtime VARCHAR(750),\n",
    "    star CHAR(10),\n",
    "    comments CHAR(15),\n",
    "    type VARCHAR(750),\n",
    "    summary VARCHAR(750),\n",
    "    image CHAR(100),\n",
    "    r5 CHAR(10),\n",
    "    r4 CHAR(10),\n",
    "    r3 CHAR(10),\n",
    "    r2 CHAR(10),\n",
    "    r1 CHAR(10)\n",
    "    )\n",
    "\"\"\"\n",
    "try:\n",
    "    cursor.execute(sql)\n",
    "except Exception as e:\n",
    "    print(e)\n",
    "    # 发生错误则回滚\n",
    "    conn.rollback()"
   ]
  },
  {
   "cell_type": "code",
   "execution_count": null,
   "metadata": {},
   "outputs": [],
   "source": []
  },
  {
   "cell_type": "code",
   "execution_count": null,
   "metadata": {},
   "outputs": [],
   "source": []
  }
 ],
 "metadata": {
  "kernelspec": {
   "display_name": "Python 3",
   "language": "python",
   "name": "python3"
  },
  "language_info": {
   "codemirror_mode": {
    "name": "ipython",
    "version": 3
   },
   "file_extension": ".py",
   "mimetype": "text/x-python",
   "name": "python",
   "nbconvert_exporter": "python",
   "pygments_lexer": "ipython3",
   "version": "3.8.5"
  }
 },
 "nbformat": 4,
 "nbformat_minor": 4
}
