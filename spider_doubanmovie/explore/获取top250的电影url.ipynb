{
 "cells": [
  {
   "cell_type": "code",
   "execution_count": 3,
   "metadata": {},
   "outputs": [],
   "source": [
    "page_url = 'https://movie.douban.com/top250?start=75&filter='\n",
    "headers = {\n",
    "    'User-Agent':'Mozilla/5.0 (Windows NT 10.0; Win64; x64) AppleWebKit/537.36 (KHTML, like Gecko) Chrome/89.0.4389.128 Safari/537.36'\n",
    "}"
   ]
  },
  {
   "cell_type": "code",
   "execution_count": 7,
   "metadata": {},
   "outputs": [],
   "source": [
    "import requests\n",
    "from lxml import etree"
   ]
  },
  {
   "cell_type": "code",
   "execution_count": 6,
   "metadata": {},
   "outputs": [
    {
     "name": "stdout",
     "output_type": "stream",
     "text": [
      "get response!\n"
     ]
    }
   ],
   "source": [
    "res = requests.get(page_url, headers=headers)\n",
    "if res.status_code == 200:\n",
    "    print('get response!')"
   ]
  },
  {
   "cell_type": "code",
   "execution_count": 8,
   "metadata": {},
   "outputs": [],
   "source": [
    "html = etree.HTML(res.text)"
   ]
  },
  {
   "cell_type": "code",
   "execution_count": 10,
   "metadata": {},
   "outputs": [],
   "source": [
    "urls = html.xpath('//div[@class = \"hd\"]/a/@href')"
   ]
  },
  {
   "cell_type": "code",
   "execution_count": 12,
   "metadata": {},
   "outputs": [
    {
     "name": "stdout",
     "output_type": "stream",
     "text": [
      "25\n",
      "['https://movie.douban.com/subject/1652587/', 'https://movie.douban.com/subject/1780330/', 'https://movie.douban.com/subject/1292262/', 'https://movie.douban.com/subject/1293544/', 'https://movie.douban.com/subject/2334904/', 'https://movie.douban.com/subject/1291832/', 'https://movie.douban.com/subject/1292343/', 'https://movie.douban.com/subject/1292656/', 'https://movie.douban.com/subject/11525673/', 'https://movie.douban.com/subject/1292223/', 'https://movie.douban.com/subject/1292679/', 'https://movie.douban.com/subject/3011235/', 'https://movie.douban.com/subject/1294371/', 'https://movie.douban.com/subject/1787291/', 'https://movie.douban.com/subject/1302425/', 'https://movie.douban.com/subject/1297192/', 'https://movie.douban.com/subject/1300299/', 'https://movie.douban.com/subject/1292370/', 'https://movie.douban.com/subject/1298070/', 'https://movie.douban.com/subject/1294639/', 'https://movie.douban.com/subject/6985810/', 'https://movie.douban.com/subject/26799731/', 'https://movie.douban.com/subject/1865703/', 'https://movie.douban.com/subject/1418834/', 'https://movie.douban.com/subject/1292215/']\n"
     ]
    }
   ],
   "source": [
    "print(len(urls))\n",
    "print(urls)\n",
    "# 一页就25个电影，说明没有提取到杂项"
   ]
  },
  {
   "cell_type": "markdown",
   "metadata": {},
   "source": [
    "## 获取top250的每一页"
   ]
  },
  {
   "cell_type": "code",
   "execution_count": 13,
   "metadata": {},
   "outputs": [],
   "source": [
    "pre = 'https://movie.douban.com/top250?'\n",
    "last = '&filter='"
   ]
  },
  {
   "cell_type": "code",
   "execution_count": 16,
   "metadata": {},
   "outputs": [
    {
     "name": "stdout",
     "output_type": "stream",
     "text": [
      "[0, 25, 50, 75, 100, 125, 150, 175, 200, 225]\n",
      "<class 'int'>\n"
     ]
    }
   ],
   "source": [
    "starts = list(range(0,250,25))\n",
    "print(starts)\n",
    "print(type(starts[0]))"
   ]
  },
  {
   "cell_type": "code",
   "execution_count": 18,
   "metadata": {},
   "outputs": [
    {
     "name": "stdout",
     "output_type": "stream",
     "text": [
      "['https://movie.douban.com/top250?start=0&filter=', 'https://movie.douban.com/top250?start=25&filter=', 'https://movie.douban.com/top250?start=50&filter=', 'https://movie.douban.com/top250?start=75&filter=', 'https://movie.douban.com/top250?start=100&filter=', 'https://movie.douban.com/top250?start=125&filter=', 'https://movie.douban.com/top250?start=150&filter=', 'https://movie.douban.com/top250?start=175&filter=', 'https://movie.douban.com/top250?start=200&filter=', 'https://movie.douban.com/top250?start=225&filter=']\n"
     ]
    }
   ],
   "source": [
    "page_urls = [pre+'start='+str(start)+last for start in starts]\n",
    "print(page_urls)"
   ]
  },
  {
   "cell_type": "code",
   "execution_count": null,
   "metadata": {},
   "outputs": [],
   "source": [
    "for page_url in page_urls:\n",
    "    res = requests.get(page_url, headers=headers) # 访问排行榜\n",
    "    html = etree.HTML(res.text) # 转化成html文本\n",
    "    movie_urls = html.xpath('//div[@class = \"hd\"]/a/@href') # 提取出每个电影的url\n",
    "    for movie_url in movie_urls:\n",
    "        movie = movie_info(movie_url) # 建立一个电影对象\n",
    "        "
   ]
  },
  {
   "cell_type": "code",
   "execution_count": 21,
   "metadata": {},
   "outputs": [
    {
     "name": "stdout",
     "output_type": "stream",
     "text": [
      "['https://movie.douban.com/subject/1652587/', 'https://movie.douban.com/subject/1780330/', 'https://movie.douban.com/subject/1292262/', 'https://movie.douban.com/subject/1293544/', 'https://movie.douban.com/subject/2334904/', 'https://movie.douban.com/subject/1291832/', 'https://movie.douban.com/subject/1292343/', 'https://movie.douban.com/subject/1292656/', 'https://movie.douban.com/subject/11525673/', 'https://movie.douban.com/subject/1292223/', 'https://movie.douban.com/subject/1292679/', 'https://movie.douban.com/subject/3011235/', 'https://movie.douban.com/subject/1294371/', 'https://movie.douban.com/subject/1787291/', 'https://movie.douban.com/subject/1302425/', 'https://movie.douban.com/subject/1297192/', 'https://movie.douban.com/subject/1300299/', 'https://movie.douban.com/subject/1292370/', 'https://movie.douban.com/subject/1298070/', 'https://movie.douban.com/subject/1294639/', 'https://movie.douban.com/subject/6985810/', 'https://movie.douban.com/subject/26799731/', 'https://movie.douban.com/subject/1865703/', 'https://movie.douban.com/subject/1418834/', 'https://movie.douban.com/subject/1292215/']\n"
     ]
    }
   ],
   "source": [
    "res = requests.get('https://movie.douban.com/top250?start=75&filter=', headers=headers)\n",
    "html = etree.HTML(res.text)\n",
    "movie_urls = html.xpath('//div[@class = \"hd\"]/a/@href') # 提取出每个电影的url\n",
    "print(movie_urls)"
   ]
  },
  {
   "cell_type": "code",
   "execution_count": 22,
   "metadata": {},
   "outputs": [
    {
     "data": {
      "text/plain": [
       "25"
      ]
     },
     "execution_count": 22,
     "metadata": {},
     "output_type": "execute_result"
    }
   ],
   "source": [
    "len(movie_urls)"
   ]
  },
  {
   "cell_type": "markdown",
   "metadata": {},
   "source": [
    "休眠时间"
   ]
  },
  {
   "cell_type": "code",
   "execution_count": 35,
   "metadata": {},
   "outputs": [
    {
     "name": "stdout",
     "output_type": "stream",
     "text": [
      "1\n",
      "3\n",
      "5\n",
      "7\n",
      "9\n"
     ]
    }
   ],
   "source": [
    "import time\n",
    "for i in [1,3,5,7,9]:\n",
    "    time.sleep(2.5)\n",
    "    print(str(i))"
   ]
  },
  {
   "cell_type": "code",
   "execution_count": 32,
   "metadata": {},
   "outputs": [
    {
     "name": "stdout",
     "output_type": "stream",
     "text": [
      "3.38\n",
      "2.99\n",
      "3.08\n",
      "3.88\n",
      "2.62\n"
     ]
    }
   ],
   "source": [
    "from numpy.random import uniform\n",
    "for i in range(5):\n",
    "    a = uniform(2,4)\n",
    "    newa = round(a, 2)\n",
    "    print(newa)"
   ]
  },
  {
   "cell_type": "code",
   "execution_count": 34,
   "metadata": {},
   "outputs": [
    {
     "name": "stdout",
     "output_type": "stream",
     "text": [
      "1.343671234\n",
      "1\n",
      "1.34\n",
      "<class 'float'>\n"
     ]
    }
   ],
   "source": [
    "x=1.343671234\n",
    "print(x)\n",
    "print(round(x))\n",
    "print(round(x,2))\n",
    "print(type(round(x,3)))"
   ]
  },
  {
   "cell_type": "code",
   "execution_count": null,
   "metadata": {},
   "outputs": [],
   "source": []
  }
 ],
 "metadata": {
  "kernelspec": {
   "display_name": "Python 3",
   "language": "python",
   "name": "python3"
  },
  "language_info": {
   "codemirror_mode": {
    "name": "ipython",
    "version": 3
   },
   "file_extension": ".py",
   "mimetype": "text/x-python",
   "name": "python",
   "nbconvert_exporter": "python",
   "pygments_lexer": "ipython3",
   "version": "3.8.5"
  }
 },
 "nbformat": 4,
 "nbformat_minor": 4
}
