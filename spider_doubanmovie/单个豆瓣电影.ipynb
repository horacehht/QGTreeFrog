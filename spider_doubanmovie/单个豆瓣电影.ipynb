{
 "cells": [
  {
   "cell_type": "code",
   "execution_count": 1,
   "metadata": {},
   "outputs": [],
   "source": [
    "import requests"
   ]
  },
  {
   "cell_type": "code",
   "execution_count": 2,
   "metadata": {},
   "outputs": [],
   "source": [
    "headers = {\n",
    "    'User-Agent':'Mozilla/5.0 (Windows NT 10.0; Win64; x64) AppleWebKit/537.36 (KHTML, like Gecko) Chrome/89.0.4389.128 Safari/537.36'\n",
    "}"
   ]
  },
  {
   "cell_type": "code",
   "execution_count": 3,
   "metadata": {},
   "outputs": [],
   "source": [
    "res = requests.get('https://movie.douban.com/subject/10777687', headers=headers)"
   ]
  },
  {
   "cell_type": "code",
   "execution_count": 16,
   "metadata": {},
   "outputs": [
    {
     "name": "stdout",
     "output_type": "stream",
     "text": [
      "['7号房的礼物 7번방의 선물']\n"
     ]
    }
   ],
   "source": [
    "from lxml import etree\n",
    "html = etree.HTML(res.text) # 转为html文本\n",
    "# 电影标题\n",
    "title = html.xpath('//h1//span[@property]/text()')\n",
    "print(title)"
   ]
  },
  {
   "cell_type": "code",
   "execution_count": 36,
   "metadata": {},
   "outputs": [
    {
     "name": "stdout",
     "output_type": "stream",
     "text": [
      "['李焕庆']\n"
     ]
    }
   ],
   "source": [
    "# 导演\n",
    "director = html.xpath('//span/a[@rel = \"v:directedBy\"]/text()')\n",
    "print(director)"
   ]
  },
  {
   "cell_type": "code",
   "execution_count": 21,
   "metadata": {},
   "outputs": [
    {
     "name": "stdout",
     "output_type": "stream",
     "text": [
      "2013-01-23(韩国)\n",
      "127分钟\n"
     ]
    }
   ],
   "source": [
    "# 上映日期，电影时长\n",
    "date, time= html.xpath('//div/span[@content]/text()')\n",
    "print(date)\n",
    "print(time)"
   ]
  },
  {
   "cell_type": "code",
   "execution_count": 63,
   "metadata": {},
   "outputs": [
    {
     "name": "stdout",
     "output_type": "stream",
     "text": [
      "['8.9']\n",
      "8.9\n"
     ]
    }
   ],
   "source": [
    "# 电影豆瓣评分\n",
    "star = html.xpath('//strong/text()')\n",
    "print(star)\n",
    "print(float(star[0]))"
   ]
  },
  {
   "cell_type": "code",
   "execution_count": 64,
   "metadata": {},
   "outputs": [
    {
     "name": "stdout",
     "output_type": "stream",
     "text": [
      "['439397']\n",
      "439397\n"
     ]
    }
   ],
   "source": [
    "# 评价人数\n",
    "comments = html.xpath('//div/a[@href = \"comments\" and @class=\"rating_people\"]/span/text()')\n",
    "# 定义到所有div节点下的直接子节点a（对a进行了限制，href属性为comments，class属性为rating_people）\n",
    "# 再找其span节点下的内容\n",
    "print(comments)\n",
    "print(int(comments[0]))"
   ]
  },
  {
   "cell_type": "code",
   "execution_count": 25,
   "metadata": {},
   "outputs": [
    {
     "name": "stdout",
     "output_type": "stream",
     "text": [
      "['\\n                                \\u3000\\u30001997年，只有6岁儿童智商的智障男子李龙久（柳成龙 饰）和可爱的女儿艺胜（葛素媛 饰）相依为命，生活虽然简单清贫，却充满幸福。某天，执着为女儿买美少女战士书包的龙久意外卷入一起幼童诱拐奸杀案，而死者竟是警察局长的女儿。龙久懵懂无知，搞不清状况，昏头昏脑就被投入监狱。在7号牢房中，聚集着走私犯蘇杨浩（吴达洙 饰）、诈骗犯崔春浩（朴元尚 饰）、通奸犯姜万范（金正泰 饰）、恐吓犯老徐（金基灿 饰）和抢劫犯申奉植（郑万植 饰）等五毒俱全的“社会渣滓”。龙久孩子般纯洁的心渐渐感动了这几个“大坏蛋”，他们甚至不惜冒险将艺胜带入牢房与父亲相会。\\n                                    ', '\\n                                \\u3000\\u3000黑暗冰冷的监牢内，7号牢房阳光满满……\\n                        ']\n"
     ]
    }
   ],
   "source": [
    "# 剧情简介\n",
    "summary = html.xpath('//div//span[@property = \"v:summary\"]/text()')\n",
    "print(summary)"
   ]
  },
  {
   "cell_type": "code",
   "execution_count": 56,
   "metadata": {},
   "outputs": [
    {
     "name": "stdout",
     "output_type": "stream",
     "text": [
      "['剧情', '喜剧', '家庭']\n"
     ]
    }
   ],
   "source": [
    "# 电影类型\n",
    "movie_types = html.xpath('//span[@property = \"v:genre\"]/text()')\n",
    "print(movie_types)"
   ]
  },
  {
   "cell_type": "code",
   "execution_count": 54,
   "metadata": {},
   "outputs": [
    {
     "name": "stdout",
     "output_type": "stream",
     "text": [
      "['56.6%', '34.2%', '8.2%', '0.8%', '0.2%']\n"
     ]
    }
   ],
   "source": [
    "# 评星各占的百分比\n",
    "ratings = html.xpath('//div[@class = \"ratings-on-weight\"]/div/span[@class = \"rating_per\"]/text()')\n",
    "# 依此是五星，四星，三星，两星，一星\n",
    "print(ratings)"
   ]
  },
  {
   "cell_type": "markdown",
   "metadata": {},
   "source": [
    "# 一些字符串处理问题"
   ]
  },
  {
   "cell_type": "code",
   "execution_count": 59,
   "metadata": {},
   "outputs": [
    {
     "name": "stdout",
     "output_type": "stream",
     "text": [
      "剧情/喜剧/家庭\n",
      "剧情/喜剧/家庭\n"
     ]
    }
   ],
   "source": [
    "# 将多种电影类型合并成一个字符串，以/分隔\n",
    "types = ''\n",
    "for movie_type in movie_types:\n",
    "    types = types+movie_type+'/'\n",
    "print(types.rstrip('/'))\n",
    "types = types.rstrip('/')\n",
    "print(types)"
   ]
  },
  {
   "cell_type": "code",
   "execution_count": 43,
   "metadata": {},
   "outputs": [
    {
     "name": "stdout",
     "output_type": "stream",
     "text": [
      "1997年，只有6岁儿童智商的智障男子李龙久（柳成龙 饰）和可爱的女儿艺胜（葛素媛 饰）相依为命，生活虽然简单清贫，却充满幸福。某天，执着为女儿买美少女战士书包的龙久意外卷入一起幼童诱拐奸杀案，而死者竟是警察局长的女儿。龙久懵懂无知，搞不清状况，昏头昏脑就被投入监狱。在7号牢房中，聚集着走私犯蘇杨浩（吴达洙 饰）、诈骗犯崔春浩（朴元尚 饰）、通奸犯姜万范（金正泰 饰）、恐吓犯老徐（金基灿 饰）和抢劫犯申奉植（郑万植 饰）等五毒俱全的“社会渣滓”。龙久孩子般纯洁的心渐渐感动了这几个“大坏蛋”，他们甚至不惜冒险将艺胜带入牢房与父亲相会。\n",
      "黑暗冰冷的监牢内，7号牢房阳光满满……\n"
     ]
    }
   ],
   "source": [
    "example0 = summary[0]\n",
    "print(example0.strip())\n",
    "example1 = summary[1]\n",
    "print(example1.strip())"
   ]
  },
  {
   "cell_type": "code",
   "execution_count": 45,
   "metadata": {},
   "outputs": [
    {
     "name": "stdout",
     "output_type": "stream",
     "text": [
      "1997年，只有6岁儿童智商的智障男子李龙久（柳成龙 饰）和可爱的女儿艺胜（葛素媛 饰）相依为命，生活虽然简单清贫，却充满幸福。某天，执着为女儿买美少女战士书包的龙久意外卷入一起幼童诱拐奸杀案，而死者竟是警察局长的女儿。龙久懵懂无知，搞不清状况，昏头昏脑就被投入监狱。在7号牢房中，聚集着走私犯蘇杨浩（吴达洙 饰）、诈骗犯崔春浩（朴元尚 饰）、通奸犯姜万范（金正泰 饰）、恐吓犯老徐（金基灿 饰）和抢劫犯申奉植（郑万植 饰）等五毒俱全的“社会渣滓”。龙久孩子般纯洁的心渐渐感动了这几个“大坏蛋”，他们甚至不惜冒险将艺胜带入牢房与父亲相会。黑暗冰冷的监牢内，7号牢房阳光满满……\n"
     ]
    }
   ],
   "source": [
    "print(example0.strip()+example1.strip())"
   ]
  },
  {
   "cell_type": "code",
   "execution_count": 49,
   "metadata": {},
   "outputs": [],
   "source": [
    "# 因为剧情简介可能分为多段，为了存储方便，将其合并成一段\n",
    "content = ''\n",
    "for i in summary:\n",
    "    content = content + i.strip()"
   ]
  },
  {
   "cell_type": "code",
   "execution_count": 50,
   "metadata": {},
   "outputs": [
    {
     "name": "stdout",
     "output_type": "stream",
     "text": [
      "1997年，只有6岁儿童智商的智障男子李龙久（柳成龙 饰）和可爱的女儿艺胜（葛素媛 饰）相依为命，生活虽然简单清贫，却充满幸福。某天，执着为女儿买美少女战士书包的龙久意外卷入一起幼童诱拐奸杀案，而死者竟是警察局长的女儿。龙久懵懂无知，搞不清状况，昏头昏脑就被投入监狱。在7号牢房中，聚集着走私犯蘇杨浩（吴达洙 饰）、诈骗犯崔春浩（朴元尚 饰）、通奸犯姜万范（金正泰 饰）、恐吓犯老徐（金基灿 饰）和抢劫犯申奉植（郑万植 饰）等五毒俱全的“社会渣滓”。龙久孩子般纯洁的心渐渐感动了这几个“大坏蛋”，他们甚至不惜冒险将艺胜带入牢房与父亲相会。黑暗冰冷的监牢内，7号牢房阳光满满……\n"
     ]
    }
   ],
   "source": [
    "print(content)"
   ]
  },
  {
   "cell_type": "markdown",
   "metadata": {},
   "source": [
    "### 构造movie_info类，每一个实例对应一个电影"
   ]
  },
  {
   "cell_type": "code",
   "execution_count": 69,
   "metadata": {},
   "outputs": [],
   "source": [
    "# 定义一个movie_info类\n",
    "class movie_info:\n",
    "    \n",
    "    def __init__(self, url):\n",
    "        headers = {\n",
    "            'User-Agent':'Mozilla/5.0 (Windows NT 10.0; Win64; x64) AppleWebKit/537.36 (KHTML, like Gecko) Chrome/89.0.4389.128 Safari/537.36'\n",
    "        }\n",
    "        res = requests.get(url, headers=headers)\n",
    "        self.html = etree.HTML(res.text)\n",
    "    \n",
    "    def movie_title(self):\n",
    "        title = self.html.xpath('//h1//span[@property]/text()')\n",
    "        return title[0] # 电影标题，返回一个字符串\n",
    "\n",
    "    def movie_director(self):\n",
    "        director = self.html.xpath('//span/a[@rel = \"v:directedBy\"]/text()')\n",
    "        return director[0] # 导演，返回一个字符串\n",
    "\n",
    "    def movie_date_length(self):\n",
    "        date, time= self.html.xpath('//div/span[@content]/text()')\n",
    "        return date, time # 返回两个值，一个是上映日期，一个是时间\n",
    "\n",
    "    def movie_star(self):\n",
    "        star = self.html.xpath('//strong/text()')\n",
    "        return float(star[0]) # 返回豆瓣评分\n",
    "\n",
    "    def movie_comments(self):\n",
    "        comments = self.html.xpath('//div/a[@href = \"comments\" and @class=\"rating_people\"]/span/text()')\n",
    "        return int(comments[0]) # 返回评价人数，数据类型为int型\n",
    "\n",
    "    def movie_types(self):\n",
    "        movie_types = self.html.xpath('//span[@property = \"v:genre\"]/text()')\n",
    "        types = ''\n",
    "        for movie_type in movie_types:\n",
    "            types = types + movie_type + '/'\n",
    "        types = types.rstrip('/') # 去掉最右方的/\n",
    "        return types # 电影类型，返回一个字符串\n",
    "\n",
    "    def movie_summary(self):\n",
    "        summary = self.html.xpath('//div//span[@property = \"v:summary\"]/text()')\n",
    "        content = ''\n",
    "        for i in summary:\n",
    "            content = content + i.strip()\n",
    "        return content # 返回剧情简介，字符串类型\n",
    "\n",
    "    def movie_ratings(self):\n",
    "        ratings = self.html.xpath('//div[@class = \"ratings-on-weight\"]/div/span[@class = \"rating_per\"]/text()')\n",
    "        return ratings # 各评分占比，返回的是个字符串列表"
   ]
  },
  {
   "cell_type": "code",
   "execution_count": 70,
   "metadata": {},
   "outputs": [],
   "source": [
    "url = 'https://movie.douban.com/subject/3442220/'\n",
    "haitunwan = movie_info(url)"
   ]
  },
  {
   "cell_type": "markdown",
   "metadata": {},
   "source": [
    "依此检测函数，检测是否出错"
   ]
  },
  {
   "cell_type": "code",
   "execution_count": 71,
   "metadata": {},
   "outputs": [
    {
     "data": {
      "text/plain": [
       "'海豚湾 The Cove'"
      ]
     },
     "execution_count": 71,
     "metadata": {},
     "output_type": "execute_result"
    }
   ],
   "source": [
    "haitunwan.movie_title()"
   ]
  },
  {
   "cell_type": "code",
   "execution_count": 72,
   "metadata": {},
   "outputs": [
    {
     "data": {
      "text/plain": [
       "'路易·西霍尤斯'"
      ]
     },
     "execution_count": 72,
     "metadata": {},
     "output_type": "execute_result"
    }
   ],
   "source": [
    "haitunwan.movie_director()"
   ]
  },
  {
   "cell_type": "code",
   "execution_count": 75,
   "metadata": {},
   "outputs": [
    {
     "name": "stdout",
     "output_type": "stream",
     "text": [
      "2009-07-31(美国)\n",
      "92分钟\n"
     ]
    }
   ],
   "source": [
    "date, length = haitunwan.movie_date_length()\n",
    "print(date)\n",
    "print(length)"
   ]
  },
  {
   "cell_type": "code",
   "execution_count": 76,
   "metadata": {},
   "outputs": [
    {
     "data": {
      "text/plain": [
       "9.3"
      ]
     },
     "execution_count": 76,
     "metadata": {},
     "output_type": "execute_result"
    }
   ],
   "source": [
    "haitunwan.movie_star()"
   ]
  },
  {
   "cell_type": "code",
   "execution_count": 78,
   "metadata": {},
   "outputs": [
    {
     "data": {
      "text/plain": [
       "308291"
      ]
     },
     "execution_count": 78,
     "metadata": {},
     "output_type": "execute_result"
    }
   ],
   "source": [
    "haitunwan.movie_comments()"
   ]
  },
  {
   "cell_type": "code",
   "execution_count": 79,
   "metadata": {},
   "outputs": [
    {
     "data": {
      "text/plain": [
       "'纪录片'"
      ]
     },
     "execution_count": 79,
     "metadata": {},
     "output_type": "execute_result"
    }
   ],
   "source": [
    "haitunwan.movie_types()"
   ]
  },
  {
   "cell_type": "code",
   "execution_count": 80,
   "metadata": {},
   "outputs": [
    {
     "data": {
      "text/plain": [
       "'日本和歌山县太地，是一个景色优美的小渔村，然而这里却常年上演着惨无人道的一幕。每年，数以万计的海豚经过这片海域，他们的旅程却在太地戛然而止。渔民们将海豚驱赶到靠近岸边的一个地方，来自世界各地的海豚训练师挑选合适的对象，剩下的大批海豚则被渔民毫无理由地赶尽杀绝。这些屠杀，这些罪行，因为种种利益而被政府和相关组织所隐瞒。理查德•贝瑞（Richard O’Barry）年轻时曾是一名海豚训练师，他所参与拍摄电影《海豚的故事》备受欢迎。但是，一头海豚的死让理查德的心灵受到强烈的震撼。从此，他致力于拯救海豚的活动。不顾当地政府和村民百般阻挠，他和他的摄影团队想方设法潜入太地的海豚屠杀场，只为将罪行公之于众，拯救人类可爱的朋友……本片荣获2010年第82届奥斯卡金像奖最佳纪录长片奖。'"
      ]
     },
     "execution_count": 80,
     "metadata": {},
     "output_type": "execute_result"
    }
   ],
   "source": [
    "haitunwan.movie_summary()"
   ]
  },
  {
   "cell_type": "code",
   "execution_count": 82,
   "metadata": {},
   "outputs": [
    {
     "data": {
      "text/plain": [
       "['71.3%', '23.0%', '4.8%', '0.5%', '0.4%']"
      ]
     },
     "execution_count": 82,
     "metadata": {},
     "output_type": "execute_result"
    }
   ],
   "source": [
    "haitunwan.movie_ratings()"
   ]
  },
  {
   "cell_type": "markdown",
   "metadata": {},
   "source": [
    "类编写成功。现转至获取top250电影url"
   ]
  }
 ],
 "metadata": {
  "kernelspec": {
   "display_name": "Python 3",
   "language": "python",
   "name": "python3"
  },
  "language_info": {
   "codemirror_mode": {
    "name": "ipython",
    "version": 3
   },
   "file_extension": ".py",
   "mimetype": "text/x-python",
   "name": "python",
   "nbconvert_exporter": "python",
   "pygments_lexer": "ipython3",
   "version": "3.8.5"
  }
 },
 "nbformat": 4,
 "nbformat_minor": 4
}
