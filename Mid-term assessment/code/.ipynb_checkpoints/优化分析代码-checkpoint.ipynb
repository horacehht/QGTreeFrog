{
 "cells": [
  {
   "cell_type": "code",
   "execution_count": 1,
   "metadata": {},
   "outputs": [],
   "source": [
    "import pandas as pd\n",
    "import matplotlib.pyplot as plt\n",
    "import seaborn as sns\n",
    "import missingno as msno\n",
    "import numpy as np\n",
    "import matplotlib.pyplot as plt\n",
    "import matplotlib as mpl"
   ]
  },
  {
   "cell_type": "markdown",
   "metadata": {},
   "source": [
    "# 查看数据 "
   ]
  },
  {
   "cell_type": "code",
   "execution_count": 2,
   "metadata": {},
   "outputs": [
    {
     "data": {
      "text/html": [
       "<div>\n",
       "<style scoped>\n",
       "    .dataframe tbody tr th:only-of-type {\n",
       "        vertical-align: middle;\n",
       "    }\n",
       "\n",
       "    .dataframe tbody tr th {\n",
       "        vertical-align: top;\n",
       "    }\n",
       "\n",
       "    .dataframe thead th {\n",
       "        text-align: right;\n",
       "    }\n",
       "</style>\n",
       "<table border=\"1\" class=\"dataframe\">\n",
       "  <thead>\n",
       "    <tr style=\"text-align: right;\">\n",
       "      <th></th>\n",
       "      <th>id_num</th>\n",
       "      <th>program_type</th>\n",
       "      <th>program_id</th>\n",
       "      <th>program_duration</th>\n",
       "      <th>test_id</th>\n",
       "      <th>test_type</th>\n",
       "      <th>difficulty_level</th>\n",
       "      <th>trainee_id</th>\n",
       "      <th>gender</th>\n",
       "      <th>education</th>\n",
       "      <th>city_tier</th>\n",
       "      <th>age</th>\n",
       "      <th>total_programs_enrolled</th>\n",
       "      <th>is_handicapped</th>\n",
       "      <th>trainee_engagement_rating</th>\n",
       "      <th>is_pass</th>\n",
       "    </tr>\n",
       "  </thead>\n",
       "  <tbody>\n",
       "    <tr>\n",
       "      <th>0</th>\n",
       "      <td>9389_150</td>\n",
       "      <td>Y</td>\n",
       "      <td>Y_1</td>\n",
       "      <td>136.0</td>\n",
       "      <td>150.0</td>\n",
       "      <td>offline</td>\n",
       "      <td>intermediate</td>\n",
       "      <td>9389.0</td>\n",
       "      <td>M</td>\n",
       "      <td>Matriculation</td>\n",
       "      <td>3.0</td>\n",
       "      <td>24.0</td>\n",
       "      <td>5.0</td>\n",
       "      <td>N</td>\n",
       "      <td>1.0</td>\n",
       "      <td>0</td>\n",
       "    </tr>\n",
       "    <tr>\n",
       "      <th>1</th>\n",
       "      <td>16523_44</td>\n",
       "      <td>T</td>\n",
       "      <td>T_1</td>\n",
       "      <td>131.0</td>\n",
       "      <td>44.0</td>\n",
       "      <td>offline</td>\n",
       "      <td>easy</td>\n",
       "      <td>16523.0</td>\n",
       "      <td>F</td>\n",
       "      <td>High School Diploma</td>\n",
       "      <td>4.0</td>\n",
       "      <td>26.0</td>\n",
       "      <td>2.0</td>\n",
       "      <td>N</td>\n",
       "      <td>3.0</td>\n",
       "      <td>1</td>\n",
       "    </tr>\n",
       "    <tr>\n",
       "      <th>2</th>\n",
       "      <td>13987_178</td>\n",
       "      <td>Z</td>\n",
       "      <td>Z_2</td>\n",
       "      <td>120.0</td>\n",
       "      <td>178.0</td>\n",
       "      <td>online</td>\n",
       "      <td>easy</td>\n",
       "      <td>13987.0</td>\n",
       "      <td>M</td>\n",
       "      <td>Matriculation</td>\n",
       "      <td>1.0</td>\n",
       "      <td>40.0</td>\n",
       "      <td>1.0</td>\n",
       "      <td>N</td>\n",
       "      <td>2.0</td>\n",
       "      <td>1</td>\n",
       "    </tr>\n",
       "    <tr>\n",
       "      <th>3</th>\n",
       "      <td>13158_32</td>\n",
       "      <td>T</td>\n",
       "      <td>T_2</td>\n",
       "      <td>117.0</td>\n",
       "      <td>32.0</td>\n",
       "      <td>offline</td>\n",
       "      <td>easy</td>\n",
       "      <td>13158.0</td>\n",
       "      <td>F</td>\n",
       "      <td>Matriculation</td>\n",
       "      <td>3.0</td>\n",
       "      <td>NaN</td>\n",
       "      <td>4.0</td>\n",
       "      <td>N</td>\n",
       "      <td>1.0</td>\n",
       "      <td>1</td>\n",
       "    </tr>\n",
       "    <tr>\n",
       "      <th>4</th>\n",
       "      <td>10591_84</td>\n",
       "      <td>V</td>\n",
       "      <td>V_3</td>\n",
       "      <td>131.0</td>\n",
       "      <td>84.0</td>\n",
       "      <td>offline</td>\n",
       "      <td>intermediate</td>\n",
       "      <td>10591.0</td>\n",
       "      <td>F</td>\n",
       "      <td>High School Diploma</td>\n",
       "      <td>1.0</td>\n",
       "      <td>42.0</td>\n",
       "      <td>2.0</td>\n",
       "      <td>N</td>\n",
       "      <td>4.0</td>\n",
       "      <td>1</td>\n",
       "    </tr>\n",
       "  </tbody>\n",
       "</table>\n",
       "</div>"
      ],
      "text/plain": [
       "      id_num program_type program_id  program_duration  test_id test_type  \\\n",
       "0   9389_150            Y        Y_1             136.0    150.0   offline   \n",
       "1   16523_44            T        T_1             131.0     44.0   offline   \n",
       "2  13987_178            Z        Z_2             120.0    178.0    online   \n",
       "3   13158_32            T        T_2             117.0     32.0   offline   \n",
       "4   10591_84            V        V_3             131.0     84.0   offline   \n",
       "\n",
       "  difficulty_level  trainee_id gender            education  city_tier   age  \\\n",
       "0     intermediate      9389.0      M        Matriculation        3.0  24.0   \n",
       "1             easy     16523.0      F  High School Diploma        4.0  26.0   \n",
       "2             easy     13987.0      M        Matriculation        1.0  40.0   \n",
       "3             easy     13158.0      F        Matriculation        3.0   NaN   \n",
       "4     intermediate     10591.0      F  High School Diploma        1.0  42.0   \n",
       "\n",
       "   total_programs_enrolled is_handicapped  trainee_engagement_rating  is_pass  \n",
       "0                      5.0              N                        1.0        0  \n",
       "1                      2.0              N                        3.0        1  \n",
       "2                      1.0              N                        2.0        1  \n",
       "3                      4.0              N                        1.0        1  \n",
       "4                      2.0              N                        4.0        1  "
      ]
     },
     "execution_count": 2,
     "metadata": {},
     "output_type": "execute_result"
    }
   ],
   "source": [
    "data = pd.read_csv('../data/train/train.csv')\n",
    "data.head(5)"
   ]
  },
  {
   "cell_type": "markdown",
   "metadata": {},
   "source": [
    "预测is_pass，**是二元分类问题**，打算采取逻辑回归算法"
   ]
  },
  {
   "cell_type": "code",
   "execution_count": 3,
   "metadata": {},
   "outputs": [
    {
     "data": {
      "text/html": [
       "<div>\n",
       "<style scoped>\n",
       "    .dataframe tbody tr th:only-of-type {\n",
       "        vertical-align: middle;\n",
       "    }\n",
       "\n",
       "    .dataframe tbody tr th {\n",
       "        vertical-align: top;\n",
       "    }\n",
       "\n",
       "    .dataframe thead th {\n",
       "        text-align: right;\n",
       "    }\n",
       "</style>\n",
       "<table border=\"1\" class=\"dataframe\">\n",
       "  <thead>\n",
       "    <tr style=\"text-align: right;\">\n",
       "      <th></th>\n",
       "      <th>program_duration</th>\n",
       "      <th>test_id</th>\n",
       "      <th>trainee_id</th>\n",
       "      <th>city_tier</th>\n",
       "      <th>age</th>\n",
       "      <th>total_programs_enrolled</th>\n",
       "      <th>trainee_engagement_rating</th>\n",
       "      <th>is_pass</th>\n",
       "    </tr>\n",
       "  </thead>\n",
       "  <tbody>\n",
       "    <tr>\n",
       "      <th>count</th>\n",
       "      <td>49323.000000</td>\n",
       "      <td>49273.000000</td>\n",
       "      <td>49259.000000</td>\n",
       "      <td>49298.000000</td>\n",
       "      <td>30619.000000</td>\n",
       "      <td>49306.000000</td>\n",
       "      <td>49226.000000</td>\n",
       "      <td>49998.000000</td>\n",
       "    </tr>\n",
       "    <tr>\n",
       "      <th>mean</th>\n",
       "      <td>128.229366</td>\n",
       "      <td>91.414345</td>\n",
       "      <td>9863.493128</td>\n",
       "      <td>2.249097</td>\n",
       "      <td>36.514256</td>\n",
       "      <td>2.583114</td>\n",
       "      <td>2.397818</td>\n",
       "      <td>0.696288</td>\n",
       "    </tr>\n",
       "    <tr>\n",
       "      <th>std</th>\n",
       "      <td>6.889967</td>\n",
       "      <td>51.307852</td>\n",
       "      <td>5716.490640</td>\n",
       "      <td>1.010896</td>\n",
       "      <td>9.045487</td>\n",
       "      <td>1.239399</td>\n",
       "      <td>1.326378</td>\n",
       "      <td>0.459864</td>\n",
       "    </tr>\n",
       "    <tr>\n",
       "      <th>min</th>\n",
       "      <td>117.000000</td>\n",
       "      <td>0.000000</td>\n",
       "      <td>1.000000</td>\n",
       "      <td>1.000000</td>\n",
       "      <td>17.000000</td>\n",
       "      <td>1.000000</td>\n",
       "      <td>1.000000</td>\n",
       "      <td>0.000000</td>\n",
       "    </tr>\n",
       "    <tr>\n",
       "      <th>25%</th>\n",
       "      <td>121.000000</td>\n",
       "      <td>45.000000</td>\n",
       "      <td>5051.500000</td>\n",
       "      <td>1.000000</td>\n",
       "      <td>28.000000</td>\n",
       "      <td>2.000000</td>\n",
       "      <td>1.000000</td>\n",
       "      <td>0.000000</td>\n",
       "    </tr>\n",
       "    <tr>\n",
       "      <th>50%</th>\n",
       "      <td>131.000000</td>\n",
       "      <td>91.000000</td>\n",
       "      <td>9665.000000</td>\n",
       "      <td>2.000000</td>\n",
       "      <td>40.000000</td>\n",
       "      <td>2.000000</td>\n",
       "      <td>2.000000</td>\n",
       "      <td>1.000000</td>\n",
       "    </tr>\n",
       "    <tr>\n",
       "      <th>75%</th>\n",
       "      <td>134.000000</td>\n",
       "      <td>135.000000</td>\n",
       "      <td>14618.000000</td>\n",
       "      <td>3.000000</td>\n",
       "      <td>45.000000</td>\n",
       "      <td>3.000000</td>\n",
       "      <td>4.000000</td>\n",
       "      <td>1.000000</td>\n",
       "    </tr>\n",
       "    <tr>\n",
       "      <th>max</th>\n",
       "      <td>136.000000</td>\n",
       "      <td>187.000000</td>\n",
       "      <td>20097.000000</td>\n",
       "      <td>4.000000</td>\n",
       "      <td>63.000000</td>\n",
       "      <td>14.000000</td>\n",
       "      <td>5.000000</td>\n",
       "      <td>1.000000</td>\n",
       "    </tr>\n",
       "  </tbody>\n",
       "</table>\n",
       "</div>"
      ],
      "text/plain": [
       "       program_duration       test_id    trainee_id     city_tier  \\\n",
       "count      49323.000000  49273.000000  49259.000000  49298.000000   \n",
       "mean         128.229366     91.414345   9863.493128      2.249097   \n",
       "std            6.889967     51.307852   5716.490640      1.010896   \n",
       "min          117.000000      0.000000      1.000000      1.000000   \n",
       "25%          121.000000     45.000000   5051.500000      1.000000   \n",
       "50%          131.000000     91.000000   9665.000000      2.000000   \n",
       "75%          134.000000    135.000000  14618.000000      3.000000   \n",
       "max          136.000000    187.000000  20097.000000      4.000000   \n",
       "\n",
       "                age  total_programs_enrolled  trainee_engagement_rating  \\\n",
       "count  30619.000000             49306.000000               49226.000000   \n",
       "mean      36.514256                 2.583114                   2.397818   \n",
       "std        9.045487                 1.239399                   1.326378   \n",
       "min       17.000000                 1.000000                   1.000000   \n",
       "25%       28.000000                 2.000000                   1.000000   \n",
       "50%       40.000000                 2.000000                   2.000000   \n",
       "75%       45.000000                 3.000000                   4.000000   \n",
       "max       63.000000                14.000000                   5.000000   \n",
       "\n",
       "            is_pass  \n",
       "count  49998.000000  \n",
       "mean       0.696288  \n",
       "std        0.459864  \n",
       "min        0.000000  \n",
       "25%        0.000000  \n",
       "50%        1.000000  \n",
       "75%        1.000000  \n",
       "max        1.000000  "
      ]
     },
     "execution_count": 3,
     "metadata": {},
     "output_type": "execute_result"
    }
   ],
   "source": [
    "data.describe()\n",
    "# 这里只能看到一些数值型特征的统计"
   ]
  },
  {
   "cell_type": "markdown",
   "metadata": {},
   "source": [
    "此份数据集似乎没有异常值"
   ]
  },
  {
   "cell_type": "code",
   "execution_count": 4,
   "metadata": {},
   "outputs": [
    {
     "name": "stdout",
     "output_type": "stream",
     "text": [
      "<class 'pandas.core.frame.DataFrame'>\n",
      "RangeIndex: 49998 entries, 0 to 49997\n",
      "Data columns (total 16 columns):\n",
      " #   Column                     Non-Null Count  Dtype  \n",
      "---  ------                     --------------  -----  \n",
      " 0   id_num                     49998 non-null  object \n",
      " 1   program_type               49267 non-null  object \n",
      " 2   program_id                 49299 non-null  object \n",
      " 3   program_duration           49323 non-null  float64\n",
      " 4   test_id                    49273 non-null  float64\n",
      " 5   test_type                  49296 non-null  object \n",
      " 6   difficulty_level           49295 non-null  object \n",
      " 7   trainee_id                 49259 non-null  float64\n",
      " 8   gender                     49291 non-null  object \n",
      " 9   education                  49296 non-null  object \n",
      " 10  city_tier                  49298 non-null  float64\n",
      " 11  age                        30619 non-null  float64\n",
      " 12  total_programs_enrolled    49306 non-null  float64\n",
      " 13  is_handicapped             49280 non-null  object \n",
      " 14  trainee_engagement_rating  49226 non-null  float64\n",
      " 15  is_pass                    49998 non-null  int64  \n",
      "dtypes: float64(7), int64(1), object(8)\n",
      "memory usage: 6.1+ MB\n"
     ]
    }
   ],
   "source": [
    "# 利用data.info()查看缺失值\n",
    "data.info()"
   ]
  },
  {
   "cell_type": "markdown",
   "metadata": {},
   "source": [
    "每个特征都有一定的缺失，但除了age特征，其他特征缺失都并不多。"
   ]
  },
  {
   "cell_type": "code",
   "execution_count": 5,
   "metadata": {},
   "outputs": [
    {
     "data": {
      "text/plain": [
       "id_num                           0\n",
       "program_type                   731\n",
       "program_id                     699\n",
       "program_duration               675\n",
       "test_id                        725\n",
       "test_type                      702\n",
       "difficulty_level               703\n",
       "trainee_id                     739\n",
       "gender                         707\n",
       "education                      702\n",
       "city_tier                      700\n",
       "age                          19379\n",
       "total_programs_enrolled        692\n",
       "is_handicapped                 718\n",
       "trainee_engagement_rating      772\n",
       "is_pass                          0\n",
       "dtype: int64"
      ]
     },
     "execution_count": 5,
     "metadata": {},
     "output_type": "execute_result"
    }
   ],
   "source": [
    "data.isnull().sum()\n",
    "# 先总体看一下缺失值情况"
   ]
  },
  {
   "cell_type": "code",
   "execution_count": null,
   "metadata": {},
   "outputs": [
    {
     "data": {
      "text/plain": [
       "<AxesSubplot:>"
      ]
     },
     "execution_count": 6,
     "metadata": {},
     "output_type": "execute_result"
    }
   ],
   "source": [
    "# 利用missingno库可视化缺失值情况\n",
    "msno.matrix(data)"
   ]
  },
  {
   "cell_type": "markdown",
   "metadata": {},
   "source": [
    "**白线越多，缺失值越多**，再次说明了其余都是个别有缺失值，age则是大部分。"
   ]
  },
  {
   "cell_type": "code",
   "execution_count": null,
   "metadata": {},
   "outputs": [],
   "source": [
    "# 绘制热力图，查看缺失值间关系\n",
    "msno.heatmap(data)"
   ]
  },
  {
   "cell_type": "markdown",
   "metadata": {},
   "source": [
    "图表明缺失值间出现没有相关性"
   ]
  },
  {
   "cell_type": "markdown",
   "metadata": {},
   "source": [
    "# 缺失值处理"
   ]
  },
  {
   "cell_type": "markdown",
   "metadata": {},
   "source": [
    "缺失值如果是**数值型特征**，可以考虑**用平均值填充**。如果是字符串型特征，可以考虑删除该项id。上限：0.70883\n",
    "\n",
    "新的思考角度：可以用其他特征来预测缺失值，如果是数值型特征用线性回归，分类型特征用逻辑回归。（做了之后并不觉得可行）"
   ]
  },
  {
   "cell_type": "code",
   "execution_count": null,
   "metadata": {},
   "outputs": [],
   "source": [
    "data['age'] = data['age'].fillna(data['age'].mean())\n",
    "data['program_duration'] = data['program_duration'].fillna(data['program_duration'].mean())\n",
    "data.isnull().sum()"
   ]
  },
  {
   "cell_type": "code",
   "execution_count": null,
   "metadata": {},
   "outputs": [],
   "source": [
    "# 其他特征如果有缺失则删除，因为其他特征是用于分类，分错类会产生误导\n",
    "orilen = len(data.index)\n",
    "data = data.dropna()\n",
    "aftlen = len(data.index)\n",
    "print('共删去%d条数据' % (orilen-aftlen))"
   ]
  },
  {
   "cell_type": "markdown",
   "metadata": {},
   "source": [
    "# 特征离散化"
   ]
  },
  {
   "cell_type": "code",
   "execution_count": null,
   "metadata": {},
   "outputs": [],
   "source": [
    "data['test_type'].unique()"
   ]
  },
  {
   "cell_type": "code",
   "execution_count": null,
   "metadata": {},
   "outputs": [],
   "source": [
    "test_type_mapping = {\n",
    "    'offline': 0,\n",
    "    'online': 1\n",
    "}\n",
    "data['test_type'] = data['test_type'].map(test_type_mapping)"
   ]
  },
  {
   "cell_type": "code",
   "execution_count": null,
   "metadata": {},
   "outputs": [],
   "source": [
    "data['gender'].unique()"
   ]
  },
  {
   "cell_type": "code",
   "execution_count": null,
   "metadata": {},
   "outputs": [],
   "source": [
    "gender_mapping = {\n",
    "    'M': 0,\n",
    "    'F': 1\n",
    "}\n",
    "data['gender'] = data['gender'].map(gender_mapping)"
   ]
  },
  {
   "cell_type": "code",
   "execution_count": null,
   "metadata": {},
   "outputs": [],
   "source": [
    "data['education'].unique()"
   ]
  },
  {
   "cell_type": "code",
   "execution_count": null,
   "metadata": {},
   "outputs": [],
   "source": [
    "education_mapping = {\n",
    "    'No Qualification': 1,\n",
    "    'High School Diploma': 2,\n",
    "    'Matriculation': 3,\n",
    "    'Bachelors': 4,\n",
    "    'Masters': 5\n",
    "}\n",
    "data['education'] = data['education'].map(education_mapping)"
   ]
  },
  {
   "cell_type": "code",
   "execution_count": null,
   "metadata": {},
   "outputs": [],
   "source": [
    "data['difficulty_level'].unique()"
   ]
  },
  {
   "cell_type": "code",
   "execution_count": null,
   "metadata": {},
   "outputs": [],
   "source": [
    "difficulty_mapping = {\n",
    "    'easy': 1,\n",
    "    'intermediate': 2,\n",
    "    'hard': 3,\n",
    "    'vary hard': 4\n",
    "}\n",
    "data['difficulty_level'] = data['difficulty_level'].map(difficulty_mapping)"
   ]
  },
  {
   "cell_type": "code",
   "execution_count": null,
   "metadata": {},
   "outputs": [],
   "source": [
    "data['is_handicapped'].unique()"
   ]
  },
  {
   "cell_type": "code",
   "execution_count": null,
   "metadata": {},
   "outputs": [],
   "source": [
    "handicap_mapping = {\n",
    "    'N': 0,\n",
    "    'Y': 1\n",
    "}\n",
    "data['is_handicapped'] = data['is_handicapped'].map(handicap_mapping)"
   ]
  },
  {
   "cell_type": "code",
   "execution_count": null,
   "metadata": {},
   "outputs": [],
   "source": []
  },
  {
   "cell_type": "markdown",
   "metadata": {},
   "source": [
    "# 特征工程"
   ]
  },
  {
   "cell_type": "code",
   "execution_count": null,
   "metadata": {},
   "outputs": [],
   "source": [
    "# 查看系数矩阵\n",
    "data.corr()\n",
    "# 可看出test_type，age，trainee_engagement_rating与is_pass有较强的相关性"
   ]
  },
  {
   "cell_type": "code",
   "execution_count": null,
   "metadata": {},
   "outputs": [],
   "source": [
    "# 先删去无用的特征\n",
    "data = data.drop(['id_num', 'program_type', 'test_id', 'trainee_id'], axis=1)"
   ]
  },
  {
   "cell_type": "markdown",
   "metadata": {},
   "source": [
    "trainee_id和test_id为**无序的离散值**,我考虑直接删除掉。而programme_type和programme_id有一定的顺序规律，对is_pass有影响，又因为programe_id值也表明了programe_type的身份（例Y_1表明了他programe_type为Y），所以可以删去programe_type，**用独热编码来表达programe_id**。"
   ]
  },
  {
   "cell_type": "code",
   "execution_count": null,
   "metadata": {},
   "outputs": [],
   "source": [
    "data.head(5)"
   ]
  },
  {
   "cell_type": "code",
   "execution_count": null,
   "metadata": {},
   "outputs": [],
   "source": [
    "program_id_onehot = pd.get_dummies(data['program_id'])\n",
    "onehoted = pd.concat([data, program_id_onehot], axis=1)\n",
    "onehoted = onehoted.drop('program_id', axis=1)"
   ]
  },
  {
   "cell_type": "code",
   "execution_count": null,
   "metadata": {},
   "outputs": [],
   "source": [
    "onehoted.head(5)"
   ]
  },
  {
   "cell_type": "markdown",
   "metadata": {},
   "source": [
    "# 归一化"
   ]
  },
  {
   "cell_type": "markdown",
   "metadata": {},
   "source": [
    "program_duration和age需进行归一化"
   ]
  },
  {
   "cell_type": "code",
   "execution_count": null,
   "metadata": {},
   "outputs": [],
   "source": [
    "onehoted.loc[:, 'age'] /= onehoted['age'].mean()\n",
    "onehoted.loc[:, 'program_duration'] /= onehoted['program_duration'].mean()\n",
    "onehoted.head(5)\n",
    "# 完成归一化"
   ]
  },
  {
   "cell_type": "markdown",
   "metadata": {},
   "source": [
    "# 算法拟合"
   ]
  },
  {
   "cell_type": "code",
   "execution_count": null,
   "metadata": {},
   "outputs": [],
   "source": [
    "from LogisticRegression import LogisticRegression # 自己写的逻辑回归\n",
    "from Evaluate import accuracy\n",
    "from sklearn.model_selection import KFold"
   ]
  },
  {
   "cell_type": "code",
   "execution_count": null,
   "metadata": {},
   "outputs": [],
   "source": [
    "kf = KFold(n_splits=4,shuffle=True)"
   ]
  },
  {
   "cell_type": "code",
   "execution_count": null,
   "metadata": {},
   "outputs": [],
   "source": [
    "lr = LogisticRegression(times=1000,alpha=0.25)\n",
    "thetas = [] # 存放k折验证每一次的theta\n",
    "corrects = [] # 存放准确率"
   ]
  },
  {
   "cell_type": "code",
   "execution_count": null,
   "metadata": {},
   "outputs": [],
   "source": [
    "X = onehoted.drop('is_pass', axis=1)\n",
    "Y = onehoted['is_pass']"
   ]
  },
  {
   "cell_type": "markdown",
   "metadata": {},
   "source": [
    "### 用两种分割数据集的方法进行测试，选择效果最好的theta"
   ]
  },
  {
   "cell_type": "code",
   "execution_count": null,
   "metadata": {},
   "outputs": [],
   "source": [
    "from sklearn.model_selection import train_test_split\n",
    "x_train, x_test, y_train, y_test = train_test_split(np.array(X), np.array(Y), test_size=0.2)\n",
    "lr.fit(x_train, y_train)\n",
    "thetas.append(lr.theta)"
   ]
  },
  {
   "cell_type": "code",
   "execution_count": null,
   "metadata": {},
   "outputs": [],
   "source": [
    "ypre = lr.predict(x_test)\n",
    "correct = accuracy(ypre, y_test)\n",
    "corrects.append(correct)\n",
    "print(correct)"
   ]
  },
  {
   "cell_type": "code",
   "execution_count": null,
   "metadata": {},
   "outputs": [],
   "source": [
    "for train_index, test_index in kf.split(X):\n",
    "    x_train, x_test = X.iloc[train_index], X.iloc[test_index]\n",
    "    y_train, y_test = Y.iloc[train_index], Y.iloc[test_index]\n",
    "    lr.fit(x_train, y_train)\n",
    "    thetas.append(lr.theta)\n",
    "    y_pre = lr.predict(x_test)\n",
    "    correct = accuracy(y_test, y_pre)\n",
    "    corrects.append(correct)\n",
    "    print('准确率为:%f' % correct)"
   ]
  },
  {
   "cell_type": "code",
   "execution_count": null,
   "metadata": {},
   "outputs": [],
   "source": [
    "best_index = corrects.index(max(corrects))\n",
    "best_theta = thetas[best_index]\n",
    "print('准确率最高的theta为第%d个' % (best_index+1))"
   ]
  },
  {
   "cell_type": "markdown",
   "metadata": {},
   "source": [
    "# 预测test1"
   ]
  },
  {
   "cell_type": "code",
   "execution_count": null,
   "metadata": {},
   "outputs": [],
   "source": [
    "# 导入test文件\n",
    "test1 = pd.read_csv('../data/test/test1.csv')"
   ]
  },
  {
   "cell_type": "code",
   "execution_count": null,
   "metadata": {},
   "outputs": [],
   "source": [
    "test1.head(5)"
   ]
  },
  {
   "cell_type": "code",
   "execution_count": null,
   "metadata": {},
   "outputs": [],
   "source": [
    "test1.isnull().sum()"
   ]
  },
  {
   "cell_type": "code",
   "execution_count": null,
   "metadata": {},
   "outputs": [],
   "source": [
    "# 缺失值处理\n",
    "test1['age'] = test1['age'].fillna(test1['age'].mean())\n",
    "test1['trainee_engagement_rating'] = test1['trainee_engagement_rating'].fillna(test1['trainee_engagement_rating'].mean())"
   ]
  },
  {
   "cell_type": "code",
   "execution_count": null,
   "metadata": {},
   "outputs": [],
   "source": [
    "# 特征离散化\n",
    "test1['test_type'] = test1['test_type'].map(test_type_mapping)\n",
    "test1['gender'] = test1['gender'].map(gender_mapping)\n",
    "test1['education'] = test1['education'].map(education_mapping)\n",
    "test1['difficulty_level'] = test1['difficulty_level'].map(difficulty_mapping)\n",
    "test1['is_handicapped'] = test1['is_handicapped'].map(handicap_mapping)"
   ]
  },
  {
   "cell_type": "code",
   "execution_count": null,
   "metadata": {},
   "outputs": [],
   "source": [
    "# 删除无用特征\n",
    "record = test1['id_num'] # 记录下id_num\n",
    "test1 = test1.drop(['id_num', 'program_type', 'test_id', 'trainee_id', 'is_pass'], axis=1)\n",
    "\n",
    "# 对program_id进行独热编码，拼接到原矩阵，删除原program_id特征\n",
    "test1_program_id_onehot = pd.get_dummies(test1['program_id'])\n",
    "test1_onehoted = pd.concat([test1, test1_program_id_onehot], axis=1)\n",
    "test1_onehoted = test1_onehoted.drop('program_id', axis=1)\n",
    "\n",
    "# 归一化\n",
    "test1_onehoted.loc[:, 'age'] /= test1_onehoted['age'].mean()\n",
    "test1_onehoted.loc[:, 'program_duration'] /= test1_onehoted['program_duration'].mean()"
   ]
  },
  {
   "cell_type": "markdown",
   "metadata": {},
   "source": [
    "**进行预测**"
   ]
  },
  {
   "cell_type": "code",
   "execution_count": null,
   "metadata": {},
   "outputs": [],
   "source": [
    "X_test = np.array(test1_onehoted.astype(float))\n",
    "\n",
    "# 将best_theta设置为模型当前的theta，随后进行预测\n",
    "lr.theta = best_theta\n",
    "y_pre = lr.predict(X_test)"
   ]
  },
  {
   "cell_type": "code",
   "execution_count": null,
   "metadata": {},
   "outputs": [],
   "source": [
    "submit = pd.DataFrame(y_pre)\n",
    "submission = pd.concat([record, submit], axis=1) # record记录着原来的id_num\n",
    "submission.columns = ['id_num', 'is_pass']"
   ]
  },
  {
   "cell_type": "code",
   "execution_count": null,
   "metadata": {},
   "outputs": [],
   "source": [
    "# submission.to_csv('sub_2ways_4KFold_1k_alpha0.25.csv', index=False)"
   ]
  },
  {
   "cell_type": "markdown",
   "metadata": {},
   "source": [
    "# 预测test2"
   ]
  },
  {
   "cell_type": "code",
   "execution_count": null,
   "metadata": {},
   "outputs": [],
   "source": [
    "# 导入test文件\n",
    "test2 = pd.read_csv('../data/test/test2.csv')\n",
    "test2.head(5)"
   ]
  },
  {
   "cell_type": "code",
   "execution_count": null,
   "metadata": {},
   "outputs": [],
   "source": [
    "test2.isnull().sum()"
   ]
  },
  {
   "cell_type": "code",
   "execution_count": null,
   "metadata": {},
   "outputs": [],
   "source": [
    "# 缺失值处理\n",
    "test2['age'] = test2['age'].fillna(test2['age'].mean())\n",
    "test2['trainee_engagement_rating'] = test2['trainee_engagement_rating'].fillna(test2['trainee_engagement_rating'].mean())"
   ]
  },
  {
   "cell_type": "code",
   "execution_count": null,
   "metadata": {},
   "outputs": [],
   "source": [
    "# 特征离散化\n",
    "test2['test_type'] = test2['test_type'].map(test_type_mapping)\n",
    "test2['gender'] = test2['gender'].map(gender_mapping)\n",
    "test2['education'] = test2['education'].map(education_mapping)\n",
    "test2['difficulty_level'] = test2['difficulty_level'].map(difficulty_mapping)\n",
    "test2['is_handicapped'] = test2['is_handicapped'].map(handicap_mapping)"
   ]
  },
  {
   "cell_type": "code",
   "execution_count": null,
   "metadata": {},
   "outputs": [],
   "source": [
    "# 删除无用特征\n",
    "record2 = test2['id_num'] # 记录下id_num\n",
    "test2 = test2.drop(['id_num', 'program_type', 'test_id', 'trainee_id', 'is_pass'], axis=1)\n",
    "\n",
    "# 对program_id进行独热编码，拼接到原矩阵，删除原program_id特征\n",
    "test2_program_id_onehot = pd.get_dummies(test2['program_id'])\n",
    "test2_onehoted = pd.concat([test2, test2_program_id_onehot], axis=1)\n",
    "test2_onehoted = test2_onehoted.drop('program_id', axis=1)\n",
    "\n",
    "# 归一化\n",
    "test2_onehoted.loc[:, 'age'] /= test2_onehoted['age'].mean()\n",
    "test2_onehoted.loc[:, 'program_duration'] /= test2_onehoted['program_duration'].mean()"
   ]
  },
  {
   "cell_type": "markdown",
   "metadata": {},
   "source": [
    "**进行预测**"
   ]
  },
  {
   "cell_type": "code",
   "execution_count": null,
   "metadata": {},
   "outputs": [],
   "source": [
    "X_test2 = np.array(test2_onehoted.astype(float))\n",
    "\n",
    "# 将best_theta设置为模型当前的theta，随后进行预测\n",
    "lr.theta = best_theta\n",
    "y_pre2 = lr.predict(X_test2)"
   ]
  },
  {
   "cell_type": "code",
   "execution_count": null,
   "metadata": {},
   "outputs": [],
   "source": [
    "submit2 = pd.DataFrame(y_pre2)\n",
    "submission2 = pd.concat([record2, submit], axis=1) # record记录着原来的id_num\n",
    "submission2.columns = ['id_num', 'is_pass']"
   ]
  },
  {
   "cell_type": "code",
   "execution_count": null,
   "metadata": {},
   "outputs": [],
   "source": [
    "submission2.to_csv('sub2_2ways_4KFold_1k_alpha0.25.csv', index=False)"
   ]
  }
 ],
 "metadata": {
  "kernelspec": {
   "display_name": "Python 3",
   "language": "python",
   "name": "python3"
  },
  "language_info": {
   "codemirror_mode": {
    "name": "ipython",
    "version": 3
   },
   "file_extension": ".py",
   "mimetype": "text/x-python",
   "name": "python",
   "nbconvert_exporter": "python",
   "pygments_lexer": "ipython3",
   "version": "3.8.5"
  }
 },
 "nbformat": 4,
 "nbformat_minor": 4
}
