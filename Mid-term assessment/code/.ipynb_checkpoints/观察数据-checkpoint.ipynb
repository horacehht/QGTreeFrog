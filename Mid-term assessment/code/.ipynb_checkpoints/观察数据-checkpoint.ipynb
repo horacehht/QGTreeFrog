{
 "cells": [
  {
   "cell_type": "code",
   "execution_count": 1,
   "metadata": {},
   "outputs": [],
   "source": [
    "import pandas as pd\n",
    "import matplotlib.pyplot as plt\n",
    "%matplotlib inline\n",
    "import seaborn as sns\n",
    "import missingno as msno\n",
    "import numpy as np\n",
    "import matplotlib.pyplot as plt\n",
    "import matplotlib as mpl"
   ]
  },
  {
   "cell_type": "code",
   "execution_count": 2,
   "metadata": {},
   "outputs": [
    {
     "data": {
      "text/html": [
       "<div>\n",
       "<style scoped>\n",
       "    .dataframe tbody tr th:only-of-type {\n",
       "        vertical-align: middle;\n",
       "    }\n",
       "\n",
       "    .dataframe tbody tr th {\n",
       "        vertical-align: top;\n",
       "    }\n",
       "\n",
       "    .dataframe thead th {\n",
       "        text-align: right;\n",
       "    }\n",
       "</style>\n",
       "<table border=\"1\" class=\"dataframe\">\n",
       "  <thead>\n",
       "    <tr style=\"text-align: right;\">\n",
       "      <th></th>\n",
       "      <th>id_num</th>\n",
       "      <th>program_type</th>\n",
       "      <th>program_id</th>\n",
       "      <th>program_duration</th>\n",
       "      <th>test_id</th>\n",
       "      <th>test_type</th>\n",
       "      <th>difficulty_level</th>\n",
       "      <th>trainee_id</th>\n",
       "      <th>gender</th>\n",
       "      <th>education</th>\n",
       "      <th>city_tier</th>\n",
       "      <th>age</th>\n",
       "      <th>total_programs_enrolled</th>\n",
       "      <th>is_handicapped</th>\n",
       "      <th>trainee_engagement_rating</th>\n",
       "      <th>is_pass</th>\n",
       "    </tr>\n",
       "  </thead>\n",
       "  <tbody>\n",
       "    <tr>\n",
       "      <th>0</th>\n",
       "      <td>9389_150</td>\n",
       "      <td>Y</td>\n",
       "      <td>Y_1</td>\n",
       "      <td>136.0</td>\n",
       "      <td>150.0</td>\n",
       "      <td>offline</td>\n",
       "      <td>intermediate</td>\n",
       "      <td>9389.0</td>\n",
       "      <td>M</td>\n",
       "      <td>Matriculation</td>\n",
       "      <td>3.0</td>\n",
       "      <td>24.0</td>\n",
       "      <td>5.0</td>\n",
       "      <td>N</td>\n",
       "      <td>1.0</td>\n",
       "      <td>0</td>\n",
       "    </tr>\n",
       "    <tr>\n",
       "      <th>1</th>\n",
       "      <td>16523_44</td>\n",
       "      <td>T</td>\n",
       "      <td>T_1</td>\n",
       "      <td>131.0</td>\n",
       "      <td>44.0</td>\n",
       "      <td>offline</td>\n",
       "      <td>easy</td>\n",
       "      <td>16523.0</td>\n",
       "      <td>F</td>\n",
       "      <td>High School Diploma</td>\n",
       "      <td>4.0</td>\n",
       "      <td>26.0</td>\n",
       "      <td>2.0</td>\n",
       "      <td>N</td>\n",
       "      <td>3.0</td>\n",
       "      <td>1</td>\n",
       "    </tr>\n",
       "    <tr>\n",
       "      <th>2</th>\n",
       "      <td>13987_178</td>\n",
       "      <td>Z</td>\n",
       "      <td>Z_2</td>\n",
       "      <td>120.0</td>\n",
       "      <td>178.0</td>\n",
       "      <td>online</td>\n",
       "      <td>easy</td>\n",
       "      <td>13987.0</td>\n",
       "      <td>M</td>\n",
       "      <td>Matriculation</td>\n",
       "      <td>1.0</td>\n",
       "      <td>40.0</td>\n",
       "      <td>1.0</td>\n",
       "      <td>N</td>\n",
       "      <td>2.0</td>\n",
       "      <td>1</td>\n",
       "    </tr>\n",
       "    <tr>\n",
       "      <th>3</th>\n",
       "      <td>13158_32</td>\n",
       "      <td>T</td>\n",
       "      <td>T_2</td>\n",
       "      <td>117.0</td>\n",
       "      <td>32.0</td>\n",
       "      <td>offline</td>\n",
       "      <td>easy</td>\n",
       "      <td>13158.0</td>\n",
       "      <td>F</td>\n",
       "      <td>Matriculation</td>\n",
       "      <td>3.0</td>\n",
       "      <td>NaN</td>\n",
       "      <td>4.0</td>\n",
       "      <td>N</td>\n",
       "      <td>1.0</td>\n",
       "      <td>1</td>\n",
       "    </tr>\n",
       "    <tr>\n",
       "      <th>4</th>\n",
       "      <td>10591_84</td>\n",
       "      <td>V</td>\n",
       "      <td>V_3</td>\n",
       "      <td>131.0</td>\n",
       "      <td>84.0</td>\n",
       "      <td>offline</td>\n",
       "      <td>intermediate</td>\n",
       "      <td>10591.0</td>\n",
       "      <td>F</td>\n",
       "      <td>High School Diploma</td>\n",
       "      <td>1.0</td>\n",
       "      <td>42.0</td>\n",
       "      <td>2.0</td>\n",
       "      <td>N</td>\n",
       "      <td>4.0</td>\n",
       "      <td>1</td>\n",
       "    </tr>\n",
       "  </tbody>\n",
       "</table>\n",
       "</div>"
      ],
      "text/plain": [
       "      id_num program_type program_id  program_duration  test_id test_type  \\\n",
       "0   9389_150            Y        Y_1             136.0    150.0   offline   \n",
       "1   16523_44            T        T_1             131.0     44.0   offline   \n",
       "2  13987_178            Z        Z_2             120.0    178.0    online   \n",
       "3   13158_32            T        T_2             117.0     32.0   offline   \n",
       "4   10591_84            V        V_3             131.0     84.0   offline   \n",
       "\n",
       "  difficulty_level  trainee_id gender            education  city_tier   age  \\\n",
       "0     intermediate      9389.0      M        Matriculation        3.0  24.0   \n",
       "1             easy     16523.0      F  High School Diploma        4.0  26.0   \n",
       "2             easy     13987.0      M        Matriculation        1.0  40.0   \n",
       "3             easy     13158.0      F        Matriculation        3.0   NaN   \n",
       "4     intermediate     10591.0      F  High School Diploma        1.0  42.0   \n",
       "\n",
       "   total_programs_enrolled is_handicapped  trainee_engagement_rating  is_pass  \n",
       "0                      5.0              N                        1.0        0  \n",
       "1                      2.0              N                        3.0        1  \n",
       "2                      1.0              N                        2.0        1  \n",
       "3                      4.0              N                        1.0        1  \n",
       "4                      2.0              N                        4.0        1  "
      ]
     },
     "execution_count": 2,
     "metadata": {},
     "output_type": "execute_result"
    }
   ],
   "source": [
    "# 导入数据\n",
    "data = pd.read_csv('../data/train/train.csv')\n",
    "data.head(5)"
   ]
  },
  {
   "cell_type": "code",
   "execution_count": 46,
   "metadata": {},
   "outputs": [
    {
     "data": {
      "text/html": [
       "<div>\n",
       "<style scoped>\n",
       "    .dataframe tbody tr th:only-of-type {\n",
       "        vertical-align: middle;\n",
       "    }\n",
       "\n",
       "    .dataframe tbody tr th {\n",
       "        vertical-align: top;\n",
       "    }\n",
       "\n",
       "    .dataframe thead th {\n",
       "        text-align: right;\n",
       "    }\n",
       "</style>\n",
       "<table border=\"1\" class=\"dataframe\">\n",
       "  <thead>\n",
       "    <tr style=\"text-align: right;\">\n",
       "      <th></th>\n",
       "      <th>program_duration</th>\n",
       "      <th>test_id</th>\n",
       "      <th>trainee_id</th>\n",
       "      <th>city_tier</th>\n",
       "      <th>age</th>\n",
       "      <th>total_programs_enrolled</th>\n",
       "      <th>trainee_engagement_rating</th>\n",
       "      <th>is_pass</th>\n",
       "    </tr>\n",
       "  </thead>\n",
       "  <tbody>\n",
       "    <tr>\n",
       "      <th>count</th>\n",
       "      <td>49323.000000</td>\n",
       "      <td>49273.000000</td>\n",
       "      <td>49259.000000</td>\n",
       "      <td>49298.000000</td>\n",
       "      <td>30619.000000</td>\n",
       "      <td>49306.000000</td>\n",
       "      <td>49226.000000</td>\n",
       "      <td>49998.000000</td>\n",
       "    </tr>\n",
       "    <tr>\n",
       "      <th>mean</th>\n",
       "      <td>128.229366</td>\n",
       "      <td>91.414345</td>\n",
       "      <td>9863.493128</td>\n",
       "      <td>2.249097</td>\n",
       "      <td>36.514256</td>\n",
       "      <td>2.583114</td>\n",
       "      <td>2.397818</td>\n",
       "      <td>0.696288</td>\n",
       "    </tr>\n",
       "    <tr>\n",
       "      <th>std</th>\n",
       "      <td>6.889967</td>\n",
       "      <td>51.307852</td>\n",
       "      <td>5716.490640</td>\n",
       "      <td>1.010896</td>\n",
       "      <td>9.045487</td>\n",
       "      <td>1.239399</td>\n",
       "      <td>1.326378</td>\n",
       "      <td>0.459864</td>\n",
       "    </tr>\n",
       "    <tr>\n",
       "      <th>min</th>\n",
       "      <td>117.000000</td>\n",
       "      <td>0.000000</td>\n",
       "      <td>1.000000</td>\n",
       "      <td>1.000000</td>\n",
       "      <td>17.000000</td>\n",
       "      <td>1.000000</td>\n",
       "      <td>1.000000</td>\n",
       "      <td>0.000000</td>\n",
       "    </tr>\n",
       "    <tr>\n",
       "      <th>25%</th>\n",
       "      <td>121.000000</td>\n",
       "      <td>45.000000</td>\n",
       "      <td>5051.500000</td>\n",
       "      <td>1.000000</td>\n",
       "      <td>28.000000</td>\n",
       "      <td>2.000000</td>\n",
       "      <td>1.000000</td>\n",
       "      <td>0.000000</td>\n",
       "    </tr>\n",
       "    <tr>\n",
       "      <th>50%</th>\n",
       "      <td>131.000000</td>\n",
       "      <td>91.000000</td>\n",
       "      <td>9665.000000</td>\n",
       "      <td>2.000000</td>\n",
       "      <td>40.000000</td>\n",
       "      <td>2.000000</td>\n",
       "      <td>2.000000</td>\n",
       "      <td>1.000000</td>\n",
       "    </tr>\n",
       "    <tr>\n",
       "      <th>75%</th>\n",
       "      <td>134.000000</td>\n",
       "      <td>135.000000</td>\n",
       "      <td>14618.000000</td>\n",
       "      <td>3.000000</td>\n",
       "      <td>45.000000</td>\n",
       "      <td>3.000000</td>\n",
       "      <td>4.000000</td>\n",
       "      <td>1.000000</td>\n",
       "    </tr>\n",
       "    <tr>\n",
       "      <th>max</th>\n",
       "      <td>136.000000</td>\n",
       "      <td>187.000000</td>\n",
       "      <td>20097.000000</td>\n",
       "      <td>4.000000</td>\n",
       "      <td>63.000000</td>\n",
       "      <td>14.000000</td>\n",
       "      <td>5.000000</td>\n",
       "      <td>1.000000</td>\n",
       "    </tr>\n",
       "  </tbody>\n",
       "</table>\n",
       "</div>"
      ],
      "text/plain": [
       "       program_duration       test_id    trainee_id     city_tier  \\\n",
       "count      49323.000000  49273.000000  49259.000000  49298.000000   \n",
       "mean         128.229366     91.414345   9863.493128      2.249097   \n",
       "std            6.889967     51.307852   5716.490640      1.010896   \n",
       "min          117.000000      0.000000      1.000000      1.000000   \n",
       "25%          121.000000     45.000000   5051.500000      1.000000   \n",
       "50%          131.000000     91.000000   9665.000000      2.000000   \n",
       "75%          134.000000    135.000000  14618.000000      3.000000   \n",
       "max          136.000000    187.000000  20097.000000      4.000000   \n",
       "\n",
       "                age  total_programs_enrolled  trainee_engagement_rating  \\\n",
       "count  30619.000000             49306.000000               49226.000000   \n",
       "mean      36.514256                 2.583114                   2.397818   \n",
       "std        9.045487                 1.239399                   1.326378   \n",
       "min       17.000000                 1.000000                   1.000000   \n",
       "25%       28.000000                 2.000000                   1.000000   \n",
       "50%       40.000000                 2.000000                   2.000000   \n",
       "75%       45.000000                 3.000000                   4.000000   \n",
       "max       63.000000                14.000000                   5.000000   \n",
       "\n",
       "            is_pass  \n",
       "count  49998.000000  \n",
       "mean       0.696288  \n",
       "std        0.459864  \n",
       "min        0.000000  \n",
       "25%        0.000000  \n",
       "50%        1.000000  \n",
       "75%        1.000000  \n",
       "max        1.000000  "
      ]
     },
     "execution_count": 46,
     "metadata": {},
     "output_type": "execute_result"
    }
   ],
   "source": [
    "data.describe()\n",
    "# 这里只能看到一些数值型特征的统计"
   ]
  },
  {
   "cell_type": "code",
   "execution_count": 47,
   "metadata": {},
   "outputs": [
    {
     "name": "stdout",
     "output_type": "stream",
     "text": [
      "<class 'pandas.core.frame.DataFrame'>\n",
      "RangeIndex: 49998 entries, 0 to 49997\n",
      "Data columns (total 16 columns):\n",
      " #   Column                     Non-Null Count  Dtype  \n",
      "---  ------                     --------------  -----  \n",
      " 0   id_num                     49998 non-null  object \n",
      " 1   program_type               49267 non-null  object \n",
      " 2   program_id                 49299 non-null  object \n",
      " 3   program_duration           49323 non-null  float64\n",
      " 4   test_id                    49273 non-null  float64\n",
      " 5   test_type                  49296 non-null  object \n",
      " 6   difficulty_level           49295 non-null  object \n",
      " 7   trainee_id                 49259 non-null  float64\n",
      " 8   gender                     49291 non-null  object \n",
      " 9   education                  49296 non-null  object \n",
      " 10  city_tier                  49298 non-null  float64\n",
      " 11  age                        30619 non-null  float64\n",
      " 12  total_programs_enrolled    49306 non-null  float64\n",
      " 13  is_handicapped             49280 non-null  object \n",
      " 14  trainee_engagement_rating  49226 non-null  float64\n",
      " 15  is_pass                    49998 non-null  int64  \n",
      "dtypes: float64(7), int64(1), object(8)\n",
      "memory usage: 6.1+ MB\n"
     ]
    }
   ],
   "source": [
    "# 利用data.info()查看总体情况\n",
    "data.info()"
   ]
  },
  {
   "cell_type": "code",
   "execution_count": 80,
   "metadata": {},
   "outputs": [
    {
     "data": {
      "text/plain": [
       "1.0    17200\n",
       "2.0    11669\n",
       "4.0     8870\n",
       "3.0     7709\n",
       "5.0     3778\n",
       "Name: trainee_engagement_rating, dtype: int64"
      ]
     },
     "execution_count": 80,
     "metadata": {},
     "output_type": "execute_result"
    }
   ],
   "source": [
    "data['trainee_engagement_rating'].value_counts()"
   ]
  },
  {
   "cell_type": "code",
   "execution_count": 48,
   "metadata": {},
   "outputs": [
    {
     "data": {
      "text/plain": [
       "id_num                           0\n",
       "program_type                   731\n",
       "program_id                     699\n",
       "program_duration               675\n",
       "test_id                        725\n",
       "test_type                      702\n",
       "difficulty_level               703\n",
       "trainee_id                     739\n",
       "gender                         707\n",
       "education                      702\n",
       "city_tier                      700\n",
       "age                          19379\n",
       "total_programs_enrolled        692\n",
       "is_handicapped                 718\n",
       "trainee_engagement_rating      772\n",
       "is_pass                          0\n",
       "dtype: int64"
      ]
     },
     "execution_count": 48,
     "metadata": {},
     "output_type": "execute_result"
    }
   ],
   "source": [
    "data.isnull().sum()\n",
    "# 先总体看一下缺失值情况"
   ]
  },
  {
   "cell_type": "code",
   "execution_count": 45,
   "metadata": {},
   "outputs": [
    {
     "name": "stdout",
     "output_type": "stream",
     "text": [
      "Pass: 34813 (69.6 percent), Not Pass: 15185 (30.4 percent), Total: 49998\n"
     ]
    }
   ],
   "source": [
    "_pass = data[data['is_pass']==1]\n",
    "_nopass = data[data['is_pass']==0]\n",
    "pass_col = \"blue\"\n",
    "nopass_col = \"red\"\n",
    "\n",
    "print(\"Pass: %d (%.1f percent), Not Pass: %d (%.1f percent), Total: %i\"\\\n",
    "      %(len(_pass), 1.*len(_pass)/len(data)*100.0,\\\n",
    "        len(_nopass), 1.*len(_nopass)/len(data)*100.0, len(data)))"
   ]
  },
  {
   "cell_type": "markdown",
   "metadata": {},
   "source": [
    "在数据集中，百分之69.6的学员通过测试，也就是说， 全提交一都有69.6的准确率...一言难尽"
   ]
  },
  {
   "cell_type": "markdown",
   "metadata": {},
   "source": [
    "在此处定义了颜色，用于区分通过/未通过。接下来要逐一检查这些特征，看到通过和未通过的分布比较。用直方图。分类特征，用柱状图+标准差柱状图"
   ]
  },
  {
   "cell_type": "code",
   "execution_count": 77,
   "metadata": {},
   "outputs": [
    {
     "data": {
      "text/plain": [
       "<AxesSubplot:xlabel='is_handicapped', ylabel='is_pass'>"
      ]
     },
     "execution_count": 77,
     "metadata": {},
     "output_type": "execute_result"
    },
    {
     "data": {
      "image/png": "[encoded data removed]",
      "text/plain": [
       "<Figure size 936x792 with 9 Axes>"
      ]
     },
     "metadata": {},
     "output_type": "display_data"
    }
   ],
   "source": [
    "warnings.filterwarnings(action=\"ignore\")\n",
    "plt.figure(figsize=[13,11])# 每个图的大小\n",
    "# age特征\n",
    "plt.subplot(331) # 331是图表的名字，下同\n",
    "sns.distplot(_pass['age'].dropna().values, bins=range(17, 63, 1), kde=False, color=pass_col, ) # 17是最小年龄，63是最大年龄\n",
    "sns.distplot(_nopass['age'].dropna().values, bins=range(17, 63, 1), kde=False, color=nopass_col,\n",
    "            axlabel='age')\n",
    "\n",
    "# gender特征\n",
    "plt.subplot(332) \n",
    "sns.barplot(x='gender', y='is_pass', data=data) # data是我们导入的dataframe，它从中找到对应的x和y进行绘图，下同\n",
    "\n",
    "# city_tier\n",
    "plt.subplot(333)\n",
    "sns.barplot('city_tier', 'is_pass', data=data)\n",
    "\n",
    "# test_type\n",
    "plt.subplot(334)\n",
    "sns.barplot('test_type', 'is_pass', data=data)\n",
    "\n",
    "# difficulty_level\n",
    "plt.subplot(335)\n",
    "sns.barplot('difficulty_level', 'is_pass', data=data)\n",
    "\n",
    "# program_type\n",
    "plt.subplot(336)\n",
    "sns.barplot('program_type', 'is_pass', data=data)\n",
    "\n",
    "\n",
    "# is_handicapped\n",
    "plt.subplot(339)\n",
    "sns.barplot('is_handicapped', 'is_pass', data=data)\n",
    "\n",
    "# trainee_engagement_rating\n",
    "#plt.subplot(340)\n",
    "#sns.barplot('trainee_engagement_rating', 'is_pass', data=data)\n",
    "# program_duration"
   ]
  },
  {
   "cell_type": "code",
   "execution_count": 81,
   "metadata": {},
   "outputs": [
    {
     "data": {
      "text/plain": [
       "<AxesSubplot:xlabel='education', ylabel='is_pass'>"
      ]
     },
     "execution_count": 81,
     "metadata": {},
     "output_type": "execute_result"
    },
    {
     "data": {
      "image/png": "[encoded data removed]",
      "text/plain": [
       "<Figure size 1800x1440 with 2 Axes>"
      ]
     },
     "metadata": {},
     "output_type": "display_data"
    }
   ],
   "source": [
    "# program_id\n",
    "plt.figure(figsize=[25,20])\n",
    "plt.subplot(337)\n",
    "sns.barplot('program_id', 'is_pass', data=data)\n",
    "\n",
    "# education\n",
    "plt.subplot(338)\n",
    "sns.barplot('education', 'is_pass', data=data)\n"
   ]
  }
 ],
 "metadata": {
  "kernelspec": {
   "display_name": "Python 3",
   "language": "python",
   "name": "python3"
  },
  "language_info": {
   "codemirror_mode": {
    "name": "ipython",
    "version": 3
   },
   "file_extension": ".py",
   "mimetype": "text/x-python",
   "name": "python",
   "nbconvert_exporter": "python",
   "pygments_lexer": "ipython3",
   "version": "3.8.5"
  }
 },
 "nbformat": 4,
 "nbformat_minor": 4
}
